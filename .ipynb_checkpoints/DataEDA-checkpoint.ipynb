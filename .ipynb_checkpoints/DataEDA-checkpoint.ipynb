{
 "cells": [
  {
   "cell_type": "markdown",
   "metadata": {
    "id": "s4oz9Vd_QLvD"
   },
   "source": [
    "## Importação das bibliotecas"
   ]
  },
  {
   "cell_type": "code",
   "execution_count": 2,
   "metadata": {
    "id": "qPvhFVa5O06M"
   },
   "outputs": [],
   "source": [
    "import pandas as pd\n",
    "import numpy as np\n",
    "from scipy import stats\n",
    "import matplotlib.pyplot as plt\n",
    "import plotly.express as px\n",
    "import seaborn as sns\n",
    "\n",
    "pd.set_option('display.max_columns', None)\n",
    "plt.style.use('ggplot')"
   ]
  },
  {
   "cell_type": "markdown",
   "metadata": {
    "id": "XpbMQlekP8u5"
   },
   "source": [
    "## Importação e Visualização da base de dados"
   ]
  },
  {
   "cell_type": "code",
   "execution_count": 4,
   "metadata": {
    "colab": {
     "base_uri": "https://localhost:8080/",
     "height": 939
    },
    "id": "FYM0p727PrcD",
    "outputId": "087f51da-55f6-449b-be1b-ea7f96a31a07"
   },
   "outputs": [
    {
     "data": {
      "text/html": [
       "<div>\n",
       "<style scoped>\n",
       "    .dataframe tbody tr th:only-of-type {\n",
       "        vertical-align: middle;\n",
       "    }\n",
       "\n",
       "    .dataframe tbody tr th {\n",
       "        vertical-align: top;\n",
       "    }\n",
       "\n",
       "    .dataframe thead th {\n",
       "        text-align: right;\n",
       "    }\n",
       "</style>\n",
       "<table border=\"1\" class=\"dataframe\">\n",
       "  <thead>\n",
       "    <tr style=\"text-align: right;\">\n",
       "      <th></th>\n",
       "      <th>NU_INSCRICAO</th>\n",
       "      <th>FAIXA ETÁRIA</th>\n",
       "      <th>SEXO</th>\n",
       "      <th>COR/RAÇA</th>\n",
       "      <th>SITUAÇÃO DE CONCLUSÃO</th>\n",
       "      <th>TIPO DE ESCOLA</th>\n",
       "      <th>LOCALIZAÇÃO DA ESCOLA</th>\n",
       "      <th>NO_MUNICIPIO_PROVA</th>\n",
       "      <th>TP_PRESENCA_CN</th>\n",
       "      <th>TP_PRESENCA_CH</th>\n",
       "      <th>TP_PRESENCA_LC</th>\n",
       "      <th>TP_PRESENCA_MT</th>\n",
       "      <th>NOTA_CN</th>\n",
       "      <th>NOTA_CH</th>\n",
       "      <th>NOTA_LC</th>\n",
       "      <th>NOTA_MT</th>\n",
       "      <th>IDIOMA</th>\n",
       "      <th>STATUS DA REDAÇÃO</th>\n",
       "      <th>NOTA_COMP1</th>\n",
       "      <th>NOTA_COMP2</th>\n",
       "      <th>NOTA_COMP3</th>\n",
       "      <th>NOTA_COMP4</th>\n",
       "      <th>NOTA_COMP5</th>\n",
       "      <th>NOTA_REDACAO</th>\n",
       "      <th>RENDA</th>\n",
       "      <th>INTERNET</th>\n",
       "      <th>PRESENCA</th>\n",
       "      <th>NOTAS</th>\n",
       "    </tr>\n",
       "  </thead>\n",
       "  <tbody>\n",
       "    <tr>\n",
       "      <th>0</th>\n",
       "      <td>210051567969</td>\n",
       "      <td>18 anos</td>\n",
       "      <td>M</td>\n",
       "      <td>Preta</td>\n",
       "      <td>Estou cursando e concluirei o EM em 2021</td>\n",
       "      <td>Público</td>\n",
       "      <td>Urbana</td>\n",
       "      <td>Caruaru</td>\n",
       "      <td>1</td>\n",
       "      <td>1</td>\n",
       "      <td>1</td>\n",
       "      <td>1</td>\n",
       "      <td>554.2</td>\n",
       "      <td>524.7</td>\n",
       "      <td>456.4</td>\n",
       "      <td>649.5</td>\n",
       "      <td>Inglês</td>\n",
       "      <td>Sem problemas</td>\n",
       "      <td>120.0</td>\n",
       "      <td>120.0</td>\n",
       "      <td>120.0</td>\n",
       "      <td>140.0</td>\n",
       "      <td>140.0</td>\n",
       "      <td>640.0</td>\n",
       "      <td>Até R$ 998,00</td>\n",
       "      <td>Sim</td>\n",
       "      <td>4</td>\n",
       "      <td>2824.8</td>\n",
       "    </tr>\n",
       "    <tr>\n",
       "      <th>1</th>\n",
       "      <td>210054292437</td>\n",
       "      <td>18 anos</td>\n",
       "      <td>M</td>\n",
       "      <td>Branca</td>\n",
       "      <td>Estou cursando e concluirei o EM em 2021</td>\n",
       "      <td>Público</td>\n",
       "      <td>Não Consta</td>\n",
       "      <td>Brejo da Madre de Deus</td>\n",
       "      <td>0</td>\n",
       "      <td>1</td>\n",
       "      <td>1</td>\n",
       "      <td>0</td>\n",
       "      <td>NaN</td>\n",
       "      <td>453.8</td>\n",
       "      <td>421.4</td>\n",
       "      <td>NaN</td>\n",
       "      <td>Inglês</td>\n",
       "      <td>Sem problemas</td>\n",
       "      <td>80.0</td>\n",
       "      <td>120.0</td>\n",
       "      <td>80.0</td>\n",
       "      <td>140.0</td>\n",
       "      <td>120.0</td>\n",
       "      <td>540.0</td>\n",
       "      <td>Até R$ 998,00</td>\n",
       "      <td>Sim</td>\n",
       "      <td>2</td>\n",
       "      <td>1415.2</td>\n",
       "    </tr>\n",
       "    <tr>\n",
       "      <th>2</th>\n",
       "      <td>210051340033</td>\n",
       "      <td>18 anos</td>\n",
       "      <td>F</td>\n",
       "      <td>Parda</td>\n",
       "      <td>Estou cursando e concluirei o EM em 2021</td>\n",
       "      <td>Público</td>\n",
       "      <td>Urbana</td>\n",
       "      <td>Salgueiro</td>\n",
       "      <td>1</td>\n",
       "      <td>1</td>\n",
       "      <td>1</td>\n",
       "      <td>1</td>\n",
       "      <td>410.5</td>\n",
       "      <td>498.3</td>\n",
       "      <td>459.2</td>\n",
       "      <td>606.0</td>\n",
       "      <td>Espanhol</td>\n",
       "      <td>Sem problemas</td>\n",
       "      <td>120.0</td>\n",
       "      <td>120.0</td>\n",
       "      <td>120.0</td>\n",
       "      <td>120.0</td>\n",
       "      <td>20.0</td>\n",
       "      <td>500.0</td>\n",
       "      <td>De R$ 1.497,01 até R$ 1.996,00</td>\n",
       "      <td>Sim</td>\n",
       "      <td>4</td>\n",
       "      <td>2474.0</td>\n",
       "    </tr>\n",
       "    <tr>\n",
       "      <th>3</th>\n",
       "      <td>210051891394</td>\n",
       "      <td>19 anos</td>\n",
       "      <td>F</td>\n",
       "      <td>Parda</td>\n",
       "      <td>Já concluí o EM</td>\n",
       "      <td>Não respondeu</td>\n",
       "      <td>Não Consta</td>\n",
       "      <td>Caruaru</td>\n",
       "      <td>1</td>\n",
       "      <td>1</td>\n",
       "      <td>1</td>\n",
       "      <td>1</td>\n",
       "      <td>400.9</td>\n",
       "      <td>480.8</td>\n",
       "      <td>458.0</td>\n",
       "      <td>472.0</td>\n",
       "      <td>Espanhol</td>\n",
       "      <td>Sem problemas</td>\n",
       "      <td>120.0</td>\n",
       "      <td>120.0</td>\n",
       "      <td>120.0</td>\n",
       "      <td>120.0</td>\n",
       "      <td>100.0</td>\n",
       "      <td>580.0</td>\n",
       "      <td>De R$ 2.994,01 até R$ 3.992,00</td>\n",
       "      <td>Sim</td>\n",
       "      <td>4</td>\n",
       "      <td>2391.7</td>\n",
       "    </tr>\n",
       "    <tr>\n",
       "      <th>4</th>\n",
       "      <td>210053720446</td>\n",
       "      <td>Entre 31 e 35 anos</td>\n",
       "      <td>F</td>\n",
       "      <td>Branca</td>\n",
       "      <td>Já concluí o EM</td>\n",
       "      <td>Não respondeu</td>\n",
       "      <td>Não Consta</td>\n",
       "      <td>Jaboatão dos Guararapes</td>\n",
       "      <td>1</td>\n",
       "      <td>1</td>\n",
       "      <td>1</td>\n",
       "      <td>1</td>\n",
       "      <td>552.0</td>\n",
       "      <td>595.1</td>\n",
       "      <td>541.9</td>\n",
       "      <td>446.9</td>\n",
       "      <td>Espanhol</td>\n",
       "      <td>Sem problemas</td>\n",
       "      <td>120.0</td>\n",
       "      <td>120.0</td>\n",
       "      <td>120.0</td>\n",
       "      <td>120.0</td>\n",
       "      <td>60.0</td>\n",
       "      <td>540.0</td>\n",
       "      <td>De R$ 1.497,01 até R$ 1.996,00</td>\n",
       "      <td>Sim</td>\n",
       "      <td>4</td>\n",
       "      <td>2675.9</td>\n",
       "    </tr>\n",
       "  </tbody>\n",
       "</table>\n",
       "</div>"
      ],
      "text/plain": [
       "   NU_INSCRICAO        FAIXA ETÁRIA SEXO COR/RAÇA  \\\n",
       "0  210051567969             18 anos    M    Preta   \n",
       "1  210054292437             18 anos    M   Branca   \n",
       "2  210051340033             18 anos    F    Parda   \n",
       "3  210051891394             19 anos    F    Parda   \n",
       "4  210053720446  Entre 31 e 35 anos    F   Branca   \n",
       "\n",
       "                      SITUAÇÃO DE CONCLUSÃO TIPO DE ESCOLA  \\\n",
       "0  Estou cursando e concluirei o EM em 2021        Público   \n",
       "1  Estou cursando e concluirei o EM em 2021        Público   \n",
       "2  Estou cursando e concluirei o EM em 2021        Público   \n",
       "3                           Já concluí o EM  Não respondeu   \n",
       "4                           Já concluí o EM  Não respondeu   \n",
       "\n",
       "  LOCALIZAÇÃO DA ESCOLA       NO_MUNICIPIO_PROVA  TP_PRESENCA_CN  \\\n",
       "0                Urbana                  Caruaru               1   \n",
       "1            Não Consta   Brejo da Madre de Deus               0   \n",
       "2                Urbana                Salgueiro               1   \n",
       "3            Não Consta                  Caruaru               1   \n",
       "4            Não Consta  Jaboatão dos Guararapes               1   \n",
       "\n",
       "   TP_PRESENCA_CH  TP_PRESENCA_LC  TP_PRESENCA_MT  NOTA_CN  NOTA_CH  NOTA_LC  \\\n",
       "0               1               1               1    554.2    524.7    456.4   \n",
       "1               1               1               0      NaN    453.8    421.4   \n",
       "2               1               1               1    410.5    498.3    459.2   \n",
       "3               1               1               1    400.9    480.8    458.0   \n",
       "4               1               1               1    552.0    595.1    541.9   \n",
       "\n",
       "   NOTA_MT    IDIOMA STATUS DA REDAÇÃO  NOTA_COMP1  NOTA_COMP2  NOTA_COMP3  \\\n",
       "0    649.5    Inglês     Sem problemas       120.0       120.0       120.0   \n",
       "1      NaN    Inglês     Sem problemas        80.0       120.0        80.0   \n",
       "2    606.0  Espanhol     Sem problemas       120.0       120.0       120.0   \n",
       "3    472.0  Espanhol     Sem problemas       120.0       120.0       120.0   \n",
       "4    446.9  Espanhol     Sem problemas       120.0       120.0       120.0   \n",
       "\n",
       "   NOTA_COMP4  NOTA_COMP5  NOTA_REDACAO                           RENDA  \\\n",
       "0       140.0       140.0         640.0                   Até R$ 998,00   \n",
       "1       140.0       120.0         540.0                   Até R$ 998,00   \n",
       "2       120.0        20.0         500.0  De R$ 1.497,01 até R$ 1.996,00   \n",
       "3       120.0       100.0         580.0  De R$ 2.994,01 até R$ 3.992,00   \n",
       "4       120.0        60.0         540.0  De R$ 1.497,01 até R$ 1.996,00   \n",
       "\n",
       "  INTERNET  PRESENCA   NOTAS  \n",
       "0      Sim         4  2824.8  \n",
       "1      Sim         2  1415.2  \n",
       "2      Sim         4  2474.0  \n",
       "3      Sim         4  2391.7  \n",
       "4      Sim         4  2675.9  "
      ]
     },
     "execution_count": 4,
     "metadata": {},
     "output_type": "execute_result"
    }
   ],
   "source": [
    "df_null = pd.read_csv('df_null.csv', sep=';', encoding='iso-8859-1')\n",
    "df_null.head()"
   ]
  },
  {
   "cell_type": "code",
   "execution_count": 5,
   "metadata": {},
   "outputs": [
    {
     "data": {
      "text/html": [
       "<div>\n",
       "<style scoped>\n",
       "    .dataframe tbody tr th:only-of-type {\n",
       "        vertical-align: middle;\n",
       "    }\n",
       "\n",
       "    .dataframe tbody tr th {\n",
       "        vertical-align: top;\n",
       "    }\n",
       "\n",
       "    .dataframe thead th {\n",
       "        text-align: right;\n",
       "    }\n",
       "</style>\n",
       "<table border=\"1\" class=\"dataframe\">\n",
       "  <thead>\n",
       "    <tr style=\"text-align: right;\">\n",
       "      <th></th>\n",
       "      <th>NOTA_CN</th>\n",
       "      <th>NOTA_CH</th>\n",
       "      <th>NOTA_LC</th>\n",
       "      <th>NOTA_MT</th>\n",
       "      <th>NOTA_COMP1</th>\n",
       "      <th>NOTA_COMP2</th>\n",
       "      <th>NOTA_COMP3</th>\n",
       "      <th>NOTA_COMP4</th>\n",
       "      <th>NOTA_COMP5</th>\n",
       "      <th>NOTA_REDACAO</th>\n",
       "    </tr>\n",
       "  </thead>\n",
       "  <tbody>\n",
       "    <tr>\n",
       "      <th>0</th>\n",
       "      <td>554.200000</td>\n",
       "      <td>524.7</td>\n",
       "      <td>456.4</td>\n",
       "      <td>649.500000</td>\n",
       "      <td>120.0</td>\n",
       "      <td>120.0</td>\n",
       "      <td>120.0</td>\n",
       "      <td>140.0</td>\n",
       "      <td>140.0</td>\n",
       "      <td>640.0</td>\n",
       "    </tr>\n",
       "    <tr>\n",
       "      <th>1</th>\n",
       "      <td>405.269967</td>\n",
       "      <td>453.8</td>\n",
       "      <td>421.4</td>\n",
       "      <td>482.724891</td>\n",
       "      <td>80.0</td>\n",
       "      <td>120.0</td>\n",
       "      <td>80.0</td>\n",
       "      <td>140.0</td>\n",
       "      <td>120.0</td>\n",
       "      <td>540.0</td>\n",
       "    </tr>\n",
       "    <tr>\n",
       "      <th>2</th>\n",
       "      <td>410.500000</td>\n",
       "      <td>498.3</td>\n",
       "      <td>459.2</td>\n",
       "      <td>606.000000</td>\n",
       "      <td>120.0</td>\n",
       "      <td>120.0</td>\n",
       "      <td>120.0</td>\n",
       "      <td>120.0</td>\n",
       "      <td>20.0</td>\n",
       "      <td>500.0</td>\n",
       "    </tr>\n",
       "    <tr>\n",
       "      <th>3</th>\n",
       "      <td>400.900000</td>\n",
       "      <td>480.8</td>\n",
       "      <td>458.0</td>\n",
       "      <td>472.000000</td>\n",
       "      <td>120.0</td>\n",
       "      <td>120.0</td>\n",
       "      <td>120.0</td>\n",
       "      <td>120.0</td>\n",
       "      <td>100.0</td>\n",
       "      <td>580.0</td>\n",
       "    </tr>\n",
       "    <tr>\n",
       "      <th>4</th>\n",
       "      <td>552.000000</td>\n",
       "      <td>595.1</td>\n",
       "      <td>541.9</td>\n",
       "      <td>446.900000</td>\n",
       "      <td>120.0</td>\n",
       "      <td>120.0</td>\n",
       "      <td>120.0</td>\n",
       "      <td>120.0</td>\n",
       "      <td>60.0</td>\n",
       "      <td>540.0</td>\n",
       "    </tr>\n",
       "  </tbody>\n",
       "</table>\n",
       "</div>"
      ],
      "text/plain": [
       "      NOTA_CN  NOTA_CH  NOTA_LC     NOTA_MT  NOTA_COMP1  NOTA_COMP2  \\\n",
       "0  554.200000    524.7    456.4  649.500000       120.0       120.0   \n",
       "1  405.269967    453.8    421.4  482.724891        80.0       120.0   \n",
       "2  410.500000    498.3    459.2  606.000000       120.0       120.0   \n",
       "3  400.900000    480.8    458.0  472.000000       120.0       120.0   \n",
       "4  552.000000    595.1    541.9  446.900000       120.0       120.0   \n",
       "\n",
       "   NOTA_COMP3  NOTA_COMP4  NOTA_COMP5  NOTA_REDACAO  \n",
       "0       120.0       140.0       140.0         640.0  \n",
       "1        80.0       140.0       120.0         540.0  \n",
       "2       120.0       120.0        20.0         500.0  \n",
       "3       120.0       120.0       100.0         580.0  \n",
       "4       120.0       120.0        60.0         540.0  "
      ]
     },
     "execution_count": 5,
     "metadata": {},
     "output_type": "execute_result"
    }
   ],
   "source": [
    "df_knn = pd.read_csv('df_knn.csv', sep=';', encoding='ISO-8859-1')\n",
    "df_knn.head()"
   ]
  },
  {
   "cell_type": "markdown",
   "metadata": {
    "id": "6gcrOaBCQTnp"
   },
   "source": [
    "## Tratamento e Limpeza de Dados"
   ]
  },
  {
   "cell_type": "code",
   "execution_count": 6,
   "metadata": {
    "id": "IrNVu1zjP21Q"
   },
   "outputs": [
    {
     "data": {
      "text/html": [
       "<div>\n",
       "<style scoped>\n",
       "    .dataframe tbody tr th:only-of-type {\n",
       "        vertical-align: middle;\n",
       "    }\n",
       "\n",
       "    .dataframe tbody tr th {\n",
       "        vertical-align: top;\n",
       "    }\n",
       "\n",
       "    .dataframe thead th {\n",
       "        text-align: right;\n",
       "    }\n",
       "</style>\n",
       "<table border=\"1\" class=\"dataframe\">\n",
       "  <thead>\n",
       "    <tr style=\"text-align: right;\">\n",
       "      <th></th>\n",
       "      <th>FAIXA ETÁRIA</th>\n",
       "      <th>SEXO</th>\n",
       "      <th>COR/RAÇA</th>\n",
       "      <th>SITUAÇÃO DE CONCLUSÃO</th>\n",
       "      <th>TIPO DE ESCOLA</th>\n",
       "      <th>LOCALIZAÇÃO DA ESCOLA</th>\n",
       "      <th>NO_MUNICIPIO_PROVA</th>\n",
       "      <th>IDIOMA</th>\n",
       "      <th>STATUS DA REDAÇÃO</th>\n",
       "      <th>RENDA</th>\n",
       "      <th>INTERNET</th>\n",
       "      <th>PRESENCA</th>\n",
       "      <th>NOTAS</th>\n",
       "    </tr>\n",
       "  </thead>\n",
       "  <tbody>\n",
       "    <tr>\n",
       "      <th>0</th>\n",
       "      <td>18 anos</td>\n",
       "      <td>M</td>\n",
       "      <td>Preta</td>\n",
       "      <td>Estou cursando e concluirei o EM em 2021</td>\n",
       "      <td>Público</td>\n",
       "      <td>Urbana</td>\n",
       "      <td>Caruaru</td>\n",
       "      <td>Inglês</td>\n",
       "      <td>Sem problemas</td>\n",
       "      <td>Até R$ 998,00</td>\n",
       "      <td>Sim</td>\n",
       "      <td>4</td>\n",
       "      <td>2824.8</td>\n",
       "    </tr>\n",
       "    <tr>\n",
       "      <th>1</th>\n",
       "      <td>18 anos</td>\n",
       "      <td>M</td>\n",
       "      <td>Branca</td>\n",
       "      <td>Estou cursando e concluirei o EM em 2021</td>\n",
       "      <td>Público</td>\n",
       "      <td>Não Consta</td>\n",
       "      <td>Brejo da Madre de Deus</td>\n",
       "      <td>Inglês</td>\n",
       "      <td>Sem problemas</td>\n",
       "      <td>Até R$ 998,00</td>\n",
       "      <td>Sim</td>\n",
       "      <td>2</td>\n",
       "      <td>1415.2</td>\n",
       "    </tr>\n",
       "    <tr>\n",
       "      <th>2</th>\n",
       "      <td>18 anos</td>\n",
       "      <td>F</td>\n",
       "      <td>Parda</td>\n",
       "      <td>Estou cursando e concluirei o EM em 2021</td>\n",
       "      <td>Público</td>\n",
       "      <td>Urbana</td>\n",
       "      <td>Salgueiro</td>\n",
       "      <td>Espanhol</td>\n",
       "      <td>Sem problemas</td>\n",
       "      <td>De R$ 1.497,01 até R$ 1.996,00</td>\n",
       "      <td>Sim</td>\n",
       "      <td>4</td>\n",
       "      <td>2474.0</td>\n",
       "    </tr>\n",
       "    <tr>\n",
       "      <th>3</th>\n",
       "      <td>19 anos</td>\n",
       "      <td>F</td>\n",
       "      <td>Parda</td>\n",
       "      <td>Já concluí o EM</td>\n",
       "      <td>Não respondeu</td>\n",
       "      <td>Não Consta</td>\n",
       "      <td>Caruaru</td>\n",
       "      <td>Espanhol</td>\n",
       "      <td>Sem problemas</td>\n",
       "      <td>De R$ 2.994,01 até R$ 3.992,00</td>\n",
       "      <td>Sim</td>\n",
       "      <td>4</td>\n",
       "      <td>2391.7</td>\n",
       "    </tr>\n",
       "    <tr>\n",
       "      <th>4</th>\n",
       "      <td>Entre 31 e 35 anos</td>\n",
       "      <td>F</td>\n",
       "      <td>Branca</td>\n",
       "      <td>Já concluí o EM</td>\n",
       "      <td>Não respondeu</td>\n",
       "      <td>Não Consta</td>\n",
       "      <td>Jaboatão dos Guararapes</td>\n",
       "      <td>Espanhol</td>\n",
       "      <td>Sem problemas</td>\n",
       "      <td>De R$ 1.497,01 até R$ 1.996,00</td>\n",
       "      <td>Sim</td>\n",
       "      <td>4</td>\n",
       "      <td>2675.9</td>\n",
       "    </tr>\n",
       "  </tbody>\n",
       "</table>\n",
       "</div>"
      ],
      "text/plain": [
       "         FAIXA ETÁRIA SEXO COR/RAÇA                     SITUAÇÃO DE CONCLUSÃO  \\\n",
       "0             18 anos    M    Preta  Estou cursando e concluirei o EM em 2021   \n",
       "1             18 anos    M   Branca  Estou cursando e concluirei o EM em 2021   \n",
       "2             18 anos    F    Parda  Estou cursando e concluirei o EM em 2021   \n",
       "3             19 anos    F    Parda                           Já concluí o EM   \n",
       "4  Entre 31 e 35 anos    F   Branca                           Já concluí o EM   \n",
       "\n",
       "  TIPO DE ESCOLA LOCALIZAÇÃO DA ESCOLA       NO_MUNICIPIO_PROVA    IDIOMA  \\\n",
       "0        Público                Urbana                  Caruaru    Inglês   \n",
       "1        Público            Não Consta   Brejo da Madre de Deus    Inglês   \n",
       "2        Público                Urbana                Salgueiro  Espanhol   \n",
       "3  Não respondeu            Não Consta                  Caruaru  Espanhol   \n",
       "4  Não respondeu            Não Consta  Jaboatão dos Guararapes  Espanhol   \n",
       "\n",
       "  STATUS DA REDAÇÃO                           RENDA INTERNET  PRESENCA   NOTAS  \n",
       "0     Sem problemas                   Até R$ 998,00      Sim         4  2824.8  \n",
       "1     Sem problemas                   Até R$ 998,00      Sim         2  1415.2  \n",
       "2     Sem problemas  De R$ 1.497,01 até R$ 1.996,00      Sim         4  2474.0  \n",
       "3     Sem problemas  De R$ 2.994,01 até R$ 3.992,00      Sim         4  2391.7  \n",
       "4     Sem problemas  De R$ 1.497,01 até R$ 1.996,00      Sim         4  2675.9  "
      ]
     },
     "execution_count": 6,
     "metadata": {},
     "output_type": "execute_result"
    }
   ],
   "source": [
    "df_null.drop(columns=['NU_INSCRICAO','TP_PRESENCA_CN','TP_PRESENCA_CH','TP_PRESENCA_LC','TP_PRESENCA_MT', 'NOTA_CN', 'NOTA_CH', 'NOTA_LC', 'NOTA_MT', 'NOTA_COMP1', 'NOTA_COMP2','NOTA_COMP3', 'NOTA_COMP4', 'NOTA_COMP5', 'NOTA_REDACAO'],inplace=True)\n",
    "df_null.head()"
   ]
  },
  {
   "cell_type": "code",
   "execution_count": 7,
   "metadata": {},
   "outputs": [
    {
     "data": {
      "text/html": [
       "<div>\n",
       "<style scoped>\n",
       "    .dataframe tbody tr th:only-of-type {\n",
       "        vertical-align: middle;\n",
       "    }\n",
       "\n",
       "    .dataframe tbody tr th {\n",
       "        vertical-align: top;\n",
       "    }\n",
       "\n",
       "    .dataframe thead th {\n",
       "        text-align: right;\n",
       "    }\n",
       "</style>\n",
       "<table border=\"1\" class=\"dataframe\">\n",
       "  <thead>\n",
       "    <tr style=\"text-align: right;\">\n",
       "      <th></th>\n",
       "      <th>FAIXA ETÁRIA</th>\n",
       "      <th>SEXO</th>\n",
       "      <th>COR/RAÇA</th>\n",
       "      <th>SITUAÇÃO DE CONCLUSÃO</th>\n",
       "      <th>TIPO DE ESCOLA</th>\n",
       "      <th>LOCALIZAÇÃO DA ESCOLA</th>\n",
       "      <th>NO_MUNICIPIO_PROVA</th>\n",
       "      <th>IDIOMA</th>\n",
       "      <th>STATUS DA REDAÇÃO</th>\n",
       "      <th>RENDA</th>\n",
       "      <th>INTERNET</th>\n",
       "      <th>PRESENCA</th>\n",
       "      <th>NOTAS</th>\n",
       "      <th>NOTA_CN</th>\n",
       "      <th>NOTA_CH</th>\n",
       "      <th>NOTA_LC</th>\n",
       "      <th>NOTA_MT</th>\n",
       "      <th>NOTA_COMP1</th>\n",
       "      <th>NOTA_COMP2</th>\n",
       "      <th>NOTA_COMP3</th>\n",
       "      <th>NOTA_COMP4</th>\n",
       "      <th>NOTA_COMP5</th>\n",
       "      <th>NOTA_REDACAO</th>\n",
       "    </tr>\n",
       "  </thead>\n",
       "  <tbody>\n",
       "    <tr>\n",
       "      <th>0</th>\n",
       "      <td>18 anos</td>\n",
       "      <td>M</td>\n",
       "      <td>Preta</td>\n",
       "      <td>Estou cursando e concluirei o EM em 2021</td>\n",
       "      <td>Público</td>\n",
       "      <td>Urbana</td>\n",
       "      <td>Caruaru</td>\n",
       "      <td>Inglês</td>\n",
       "      <td>Sem problemas</td>\n",
       "      <td>Até R$ 998,00</td>\n",
       "      <td>Sim</td>\n",
       "      <td>4</td>\n",
       "      <td>2824.8</td>\n",
       "      <td>554.200000</td>\n",
       "      <td>524.7</td>\n",
       "      <td>456.4</td>\n",
       "      <td>649.500000</td>\n",
       "      <td>120.0</td>\n",
       "      <td>120.0</td>\n",
       "      <td>120.0</td>\n",
       "      <td>140.0</td>\n",
       "      <td>140.0</td>\n",
       "      <td>640.0</td>\n",
       "    </tr>\n",
       "    <tr>\n",
       "      <th>1</th>\n",
       "      <td>18 anos</td>\n",
       "      <td>M</td>\n",
       "      <td>Branca</td>\n",
       "      <td>Estou cursando e concluirei o EM em 2021</td>\n",
       "      <td>Público</td>\n",
       "      <td>Não Consta</td>\n",
       "      <td>Brejo da Madre de Deus</td>\n",
       "      <td>Inglês</td>\n",
       "      <td>Sem problemas</td>\n",
       "      <td>Até R$ 998,00</td>\n",
       "      <td>Sim</td>\n",
       "      <td>2</td>\n",
       "      <td>1415.2</td>\n",
       "      <td>405.269967</td>\n",
       "      <td>453.8</td>\n",
       "      <td>421.4</td>\n",
       "      <td>482.724891</td>\n",
       "      <td>80.0</td>\n",
       "      <td>120.0</td>\n",
       "      <td>80.0</td>\n",
       "      <td>140.0</td>\n",
       "      <td>120.0</td>\n",
       "      <td>540.0</td>\n",
       "    </tr>\n",
       "    <tr>\n",
       "      <th>2</th>\n",
       "      <td>18 anos</td>\n",
       "      <td>F</td>\n",
       "      <td>Parda</td>\n",
       "      <td>Estou cursando e concluirei o EM em 2021</td>\n",
       "      <td>Público</td>\n",
       "      <td>Urbana</td>\n",
       "      <td>Salgueiro</td>\n",
       "      <td>Espanhol</td>\n",
       "      <td>Sem problemas</td>\n",
       "      <td>De R$ 1.497,01 até R$ 1.996,00</td>\n",
       "      <td>Sim</td>\n",
       "      <td>4</td>\n",
       "      <td>2474.0</td>\n",
       "      <td>410.500000</td>\n",
       "      <td>498.3</td>\n",
       "      <td>459.2</td>\n",
       "      <td>606.000000</td>\n",
       "      <td>120.0</td>\n",
       "      <td>120.0</td>\n",
       "      <td>120.0</td>\n",
       "      <td>120.0</td>\n",
       "      <td>20.0</td>\n",
       "      <td>500.0</td>\n",
       "    </tr>\n",
       "    <tr>\n",
       "      <th>3</th>\n",
       "      <td>19 anos</td>\n",
       "      <td>F</td>\n",
       "      <td>Parda</td>\n",
       "      <td>Já concluí o EM</td>\n",
       "      <td>Não respondeu</td>\n",
       "      <td>Não Consta</td>\n",
       "      <td>Caruaru</td>\n",
       "      <td>Espanhol</td>\n",
       "      <td>Sem problemas</td>\n",
       "      <td>De R$ 2.994,01 até R$ 3.992,00</td>\n",
       "      <td>Sim</td>\n",
       "      <td>4</td>\n",
       "      <td>2391.7</td>\n",
       "      <td>400.900000</td>\n",
       "      <td>480.8</td>\n",
       "      <td>458.0</td>\n",
       "      <td>472.000000</td>\n",
       "      <td>120.0</td>\n",
       "      <td>120.0</td>\n",
       "      <td>120.0</td>\n",
       "      <td>120.0</td>\n",
       "      <td>100.0</td>\n",
       "      <td>580.0</td>\n",
       "    </tr>\n",
       "    <tr>\n",
       "      <th>4</th>\n",
       "      <td>Entre 31 e 35 anos</td>\n",
       "      <td>F</td>\n",
       "      <td>Branca</td>\n",
       "      <td>Já concluí o EM</td>\n",
       "      <td>Não respondeu</td>\n",
       "      <td>Não Consta</td>\n",
       "      <td>Jaboatão dos Guararapes</td>\n",
       "      <td>Espanhol</td>\n",
       "      <td>Sem problemas</td>\n",
       "      <td>De R$ 1.497,01 até R$ 1.996,00</td>\n",
       "      <td>Sim</td>\n",
       "      <td>4</td>\n",
       "      <td>2675.9</td>\n",
       "      <td>552.000000</td>\n",
       "      <td>595.1</td>\n",
       "      <td>541.9</td>\n",
       "      <td>446.900000</td>\n",
       "      <td>120.0</td>\n",
       "      <td>120.0</td>\n",
       "      <td>120.0</td>\n",
       "      <td>120.0</td>\n",
       "      <td>60.0</td>\n",
       "      <td>540.0</td>\n",
       "    </tr>\n",
       "  </tbody>\n",
       "</table>\n",
       "</div>"
      ],
      "text/plain": [
       "         FAIXA ETÁRIA SEXO COR/RAÇA                     SITUAÇÃO DE CONCLUSÃO  \\\n",
       "0             18 anos    M    Preta  Estou cursando e concluirei o EM em 2021   \n",
       "1             18 anos    M   Branca  Estou cursando e concluirei o EM em 2021   \n",
       "2             18 anos    F    Parda  Estou cursando e concluirei o EM em 2021   \n",
       "3             19 anos    F    Parda                           Já concluí o EM   \n",
       "4  Entre 31 e 35 anos    F   Branca                           Já concluí o EM   \n",
       "\n",
       "  TIPO DE ESCOLA LOCALIZAÇÃO DA ESCOLA       NO_MUNICIPIO_PROVA    IDIOMA  \\\n",
       "0        Público                Urbana                  Caruaru    Inglês   \n",
       "1        Público            Não Consta   Brejo da Madre de Deus    Inglês   \n",
       "2        Público                Urbana                Salgueiro  Espanhol   \n",
       "3  Não respondeu            Não Consta                  Caruaru  Espanhol   \n",
       "4  Não respondeu            Não Consta  Jaboatão dos Guararapes  Espanhol   \n",
       "\n",
       "  STATUS DA REDAÇÃO                           RENDA INTERNET  PRESENCA  \\\n",
       "0     Sem problemas                   Até R$ 998,00      Sim         4   \n",
       "1     Sem problemas                   Até R$ 998,00      Sim         2   \n",
       "2     Sem problemas  De R$ 1.497,01 até R$ 1.996,00      Sim         4   \n",
       "3     Sem problemas  De R$ 2.994,01 até R$ 3.992,00      Sim         4   \n",
       "4     Sem problemas  De R$ 1.497,01 até R$ 1.996,00      Sim         4   \n",
       "\n",
       "    NOTAS     NOTA_CN  NOTA_CH  NOTA_LC     NOTA_MT  NOTA_COMP1  NOTA_COMP2  \\\n",
       "0  2824.8  554.200000    524.7    456.4  649.500000       120.0       120.0   \n",
       "1  1415.2  405.269967    453.8    421.4  482.724891        80.0       120.0   \n",
       "2  2474.0  410.500000    498.3    459.2  606.000000       120.0       120.0   \n",
       "3  2391.7  400.900000    480.8    458.0  472.000000       120.0       120.0   \n",
       "4  2675.9  552.000000    595.1    541.9  446.900000       120.0       120.0   \n",
       "\n",
       "   NOTA_COMP3  NOTA_COMP4  NOTA_COMP5  NOTA_REDACAO  \n",
       "0       120.0       140.0       140.0         640.0  \n",
       "1        80.0       140.0       120.0         540.0  \n",
       "2       120.0       120.0        20.0         500.0  \n",
       "3       120.0       120.0       100.0         580.0  \n",
       "4       120.0       120.0        60.0         540.0  "
      ]
     },
     "execution_count": 7,
     "metadata": {},
     "output_type": "execute_result"
    }
   ],
   "source": [
    "df = pd.concat([df_null, df_knn], axis=1)\n",
    "df.head()"
   ]
  },
  {
   "cell_type": "code",
   "execution_count": 8,
   "metadata": {
    "colab": {
     "base_uri": "https://localhost:8080/"
    },
    "id": "R1XI0nW2VC0F",
    "outputId": "04837912-9e2d-4239-9cca-f7dd8d489083"
   },
   "outputs": [
    {
     "data": {
      "text/plain": [
       "Index(['FAIXA ETÁRIA', 'SEXO', 'COR/RAÇA', 'SITUAÇÃO DE CONCLUSÃO',\n",
       "       'TIPO DE ESCOLA', 'LOCALIZAÇÃO DA ESCOLA', 'NO_MUNICIPIO_PROVA',\n",
       "       'IDIOMA', 'STATUS DA REDAÇÃO', 'RENDA', 'INTERNET', 'PRESENCA', 'NOTAS',\n",
       "       'NOTA_CN', 'NOTA_CH', 'NOTA_LC', 'NOTA_MT', 'NOTA_COMP1', 'NOTA_COMP2',\n",
       "       'NOTA_COMP3', 'NOTA_COMP4', 'NOTA_COMP5', 'NOTA_REDACAO'],\n",
       "      dtype='object')"
      ]
     },
     "execution_count": 8,
     "metadata": {},
     "output_type": "execute_result"
    }
   ],
   "source": [
    "df.columns"
   ]
  },
  {
   "cell_type": "code",
   "execution_count": 9,
   "metadata": {
    "id": "zP4Qz47xUaRs"
   },
   "outputs": [],
   "source": [
    "df = df[['FAIXA ETÁRIA', 'SEXO', 'COR/RAÇA', 'SITUAÇÃO DE CONCLUSÃO', 'TIPO DE ESCOLA', 'LOCALIZAÇÃO DA ESCOLA', 'NO_MUNICIPIO_PROVA', 'IDIOMA', 'STATUS DA REDAÇÃO', 'RENDA', 'INTERNET',\n",
    "       'NOTA_CN', 'NOTA_MT', 'NOTA_CH', 'NOTA_LC', 'NOTA_COMP1', 'NOTA_COMP2', 'NOTA_COMP3', 'NOTA_COMP4', 'NOTA_COMP5', 'NOTA_REDACAO', 'NOTAS', 'PRESENCA']]"
   ]
  },
  {
   "cell_type": "code",
   "execution_count": 10,
   "metadata": {},
   "outputs": [
    {
     "name": "stdout",
     "output_type": "stream",
     "text": [
      "<class 'pandas.core.frame.DataFrame'>\n",
      "RangeIndex: 5038 entries, 0 to 5037\n",
      "Data columns (total 23 columns):\n",
      " #   Column                 Non-Null Count  Dtype  \n",
      "---  ------                 --------------  -----  \n",
      " 0   FAIXA ETÁRIA           5038 non-null   object \n",
      " 1   SEXO                   5038 non-null   object \n",
      " 2   COR/RAÇA               5038 non-null   object \n",
      " 3   SITUAÇÃO DE CONCLUSÃO  5038 non-null   object \n",
      " 4   TIPO DE ESCOLA         5038 non-null   object \n",
      " 5   LOCALIZAÇÃO DA ESCOLA  5038 non-null   object \n",
      " 6   NO_MUNICIPIO_PROVA     5038 non-null   object \n",
      " 7   IDIOMA                 5038 non-null   object \n",
      " 8   STATUS DA REDAÇÃO      5038 non-null   object \n",
      " 9   RENDA                  5038 non-null   object \n",
      " 10  INTERNET               5038 non-null   object \n",
      " 11  NOTA_CN                5038 non-null   float64\n",
      " 12  NOTA_MT                5038 non-null   float64\n",
      " 13  NOTA_CH                5038 non-null   float64\n",
      " 14  NOTA_LC                5038 non-null   float64\n",
      " 15  NOTA_COMP1             5038 non-null   float64\n",
      " 16  NOTA_COMP2             5038 non-null   float64\n",
      " 17  NOTA_COMP3             5038 non-null   float64\n",
      " 18  NOTA_COMP4             5038 non-null   float64\n",
      " 19  NOTA_COMP5             5038 non-null   float64\n",
      " 20  NOTA_REDACAO           5038 non-null   float64\n",
      " 21  NOTAS                  5038 non-null   float64\n",
      " 22  PRESENCA               5038 non-null   int64  \n",
      "dtypes: float64(11), int64(1), object(11)\n",
      "memory usage: 905.4+ KB\n"
     ]
    }
   ],
   "source": [
    "df.info()"
   ]
  },
  {
   "cell_type": "code",
   "execution_count": 11,
   "metadata": {
    "colab": {
     "base_uri": "https://localhost:8080/",
     "height": 478
    },
    "id": "dls2o67HVX68",
    "outputId": "69c71ec4-5f9a-4b79-ddb9-5630117bd5f4"
   },
   "outputs": [
    {
     "data": {
      "text/plain": [
       "FAIXA ETÁRIA             0\n",
       "SEXO                     0\n",
       "COR/RAÇA                 0\n",
       "SITUAÇÃO DE CONCLUSÃO    0\n",
       "TIPO DE ESCOLA           0\n",
       "LOCALIZAÇÃO DA ESCOLA    0\n",
       "NO_MUNICIPIO_PROVA       0\n",
       "IDIOMA                   0\n",
       "STATUS DA REDAÇÃO        0\n",
       "RENDA                    0\n",
       "INTERNET                 0\n",
       "NOTA_CN                  0\n",
       "NOTA_MT                  0\n",
       "NOTA_CH                  0\n",
       "NOTA_LC                  0\n",
       "NOTA_COMP1               0\n",
       "NOTA_COMP2               0\n",
       "NOTA_COMP3               0\n",
       "NOTA_COMP4               0\n",
       "NOTA_COMP5               0\n",
       "NOTA_REDACAO             0\n",
       "NOTAS                    0\n",
       "PRESENCA                 0\n",
       "dtype: int64"
      ]
     },
     "execution_count": 11,
     "metadata": {},
     "output_type": "execute_result"
    }
   ],
   "source": [
    "df.isnull().sum()"
   ]
  },
  {
   "cell_type": "markdown",
   "metadata": {
    "id": "w3Wn4AExVm48"
   },
   "source": [
    "## Análise Exploratória dos Dados"
   ]
  },
  {
   "cell_type": "code",
   "execution_count": null,
   "metadata": {
    "colab": {
     "base_uri": "https://localhost:8080/",
     "height": 364
    },
    "id": "pwXeZFEiZD0j",
    "outputId": "f2c766e2-5abc-4965-ddf1-ce61c1e0a351"
   },
   "outputs": [],
   "source": [
    "df.describe()"
   ]
  },
  {
   "cell_type": "code",
   "execution_count": null,
   "metadata": {
    "colab": {
     "base_uri": "https://localhost:8080/"
    },
    "id": "F50VDSEe8qE1",
    "outputId": "fbd51093-ef22-44fd-8a18-a2f8bab96470",
    "scrolled": true
   },
   "outputs": [],
   "source": [
    "df.isnull().sum()"
   ]
  },
  {
   "cell_type": "markdown",
   "metadata": {},
   "source": [
    "## Perguntas - Enem 2021"
   ]
  },
  {
   "cell_type": "markdown",
   "metadata": {
    "id": "Bd9U2gKd86Cu"
   },
   "source": [
    "### 1. Qual a faixa etária que mais participou do Enem 2021?"
   ]
  },
  {
   "cell_type": "code",
   "execution_count": null,
   "metadata": {
    "colab": {
     "base_uri": "https://localhost:8080/"
    },
    "id": "EVGjQlC68rBb",
    "outputId": "5987d550-88dd-422b-a010-e2b0c0aa669e"
   },
   "outputs": [],
   "source": [
    "print(df['FAIXA ETÁRIA'].value_counts().head())\n",
    "print(df['FAIXA ETÁRIA'].value_counts(normalize=True).head()*100)"
   ]
  },
  {
   "cell_type": "code",
   "execution_count": null,
   "metadata": {},
   "outputs": [],
   "source": [
    "df['FAIXA ETÁRIA'].value_counts().sort_index().head().plot(kind='barh')\n",
    "plt.show()"
   ]
  },
  {
   "cell_type": "markdown",
   "metadata": {},
   "source": [
    "> A faixa etária que mais participou do Enem 2021 foi a de 17-19 anos, representando cerca de 62,61% da base de dados dos vestibulandos."
   ]
  },
  {
   "cell_type": "markdown",
   "metadata": {},
   "source": [
    "### 2. De quais cidades esses vestibulandos com idades 17 e 19 anos são provenientes?"
   ]
  },
  {
   "cell_type": "code",
   "execution_count": null,
   "metadata": {},
   "outputs": [],
   "source": [
    "df[df['FAIXA ETÁRIA'] < '20 anos'].groupby('NO_MUNICIPIO_PROVA')['FAIXA ETÁRIA'].value_counts().sort_values(ascending=False).head()"
   ]
  },
  {
   "cell_type": "code",
   "execution_count": null,
   "metadata": {},
   "outputs": [],
   "source": [
    "df[df['FAIXA ETÁRIA'] < '20 anos'].groupby('NO_MUNICIPIO_PROVA')['FAIXA ETÁRIA'].value_counts().sort_values(ascending=False).head(10).plot(kind='barh')\n",
    "plt.show()"
   ]
  },
  {
   "cell_type": "markdown",
   "metadata": {},
   "source": [
    "> A grande parte dos jovens vestibulandos são da cidade do Recife."
   ]
  },
  {
   "cell_type": "markdown",
   "metadata": {},
   "source": [
    "### 3. Qual o tipo de escola que esses vestibulandos estudam?"
   ]
  },
  {
   "cell_type": "code",
   "execution_count": null,
   "metadata": {},
   "outputs": [],
   "source": [
    "df[df['FAIXA ETÁRIA'] < '20 anos'].groupby('TIPO DE ESCOLA')['ID'].count().sort_values()"
   ]
  },
  {
   "cell_type": "code",
   "execution_count": null,
   "metadata": {},
   "outputs": [],
   "source": [
    "df[df['FAIXA ETÁRIA'] < '20 anos'].groupby('TIPO DE ESCOLA')['ID'].count().sort_values().plot(kind='bar')\n",
    "plt.xticks(rotation=0)\n",
    "plt.show()"
   ]
  },
  {
   "cell_type": "markdown",
   "metadata": {},
   "source": [
    "> A maioria dos estudantes que possuem idade menor do que 20 anos e que participaram do Enem 2021, são da escola pública. Uma quantidade considerável de estudantes não responderam ao formulário acerca do tipo de escola."
   ]
  },
  {
   "cell_type": "markdown",
   "metadata": {},
   "source": [
    "### 4. Qual a média das notas de matemática de acordo com a cor/raça?"
   ]
  },
  {
   "cell_type": "code",
   "execution_count": null,
   "metadata": {},
   "outputs": [],
   "source": [
    "df.groupby('COR/RAÇA')['NOTA_MT'].mean()"
   ]
  },
  {
   "cell_type": "code",
   "execution_count": null,
   "metadata": {},
   "outputs": [],
   "source": [
    "df.groupby('COR/RAÇA')['NOTA_MT'].mean().describe()"
   ]
  },
  {
   "cell_type": "code",
   "execution_count": null,
   "metadata": {},
   "outputs": [],
   "source": [
    "df.groupby('COR/RAÇA')['NOTA_MT'].mean().plot.density()\n",
    "plt.show()"
   ]
  },
  {
   "cell_type": "code",
   "execution_count": null,
   "metadata": {},
   "outputs": [],
   "source": [
    "# Teste de normalidade da distribuicao das notas de matematicas por cor/raca\n",
    "stats.shapiro(df.groupby('COR/RAÇA')['NOTA_MT'].mean())"
   ]
  },
  {
   "cell_type": "markdown",
   "metadata": {},
   "source": [
    "> Através da análise gráfica e a confirmação pelo teste de normalidade de Shapiro-Wilk, pode-se dizer que as notas de matemática dos vestibulandos do Enem 2021 tem uma tendência a seguir uma distribuição normal."
   ]
  },
  {
   "cell_type": "markdown",
   "metadata": {},
   "source": [
    "### 5. Qual a média das notas de redação de acordo com a situação de conclusão do Ensino Médio?"
   ]
  },
  {
   "cell_type": "code",
   "execution_count": null,
   "metadata": {},
   "outputs": [],
   "source": [
    "df.groupby('SITUAÇÃO DE CONCLUSÃO')['NOTA_REDACAO'].mean()"
   ]
  },
  {
   "cell_type": "code",
   "execution_count": null,
   "metadata": {},
   "outputs": [],
   "source": [
    "df.groupby('SITUAÇÃO DE CONCLUSÃO')['NOTA_REDACAO'].mean().plot(kind='barh')\n",
    "plt.show()"
   ]
  },
  {
   "cell_type": "markdown",
   "metadata": {},
   "source": [
    "> Pode-se observar que os vestibulandos que concluíram o ensino médio teve uma média maior do que os vestibulandos que ainda estavam cursando o ensino médio ou que terminariam no ano de 2021."
   ]
  },
  {
   "cell_type": "markdown",
   "metadata": {},
   "source": [
    "### 6. Qual a faixa etária mais comum nos vestibulandos que ja concluíram o Ensino Médio?"
   ]
  },
  {
   "cell_type": "code",
   "execution_count": null,
   "metadata": {},
   "outputs": [],
   "source": [
    "df[df['SITUAÇÃO DE CONCLUSÃO'] == 'Já concluí o EM'].groupby('SITUAÇÃO DE CONCLUSÃO')['FAIXA ETÁRIA'].value_counts()"
   ]
  },
  {
   "cell_type": "code",
   "execution_count": null,
   "metadata": {},
   "outputs": [],
   "source": [
    "df[df['SITUAÇÃO DE CONCLUSÃO'] == 'Já concluí o EM'].groupby('SITUAÇÃO DE CONCLUSÃO')['FAIXA ETÁRIA'].value_counts().plot(kind='bar')\n",
    "plt.show()"
   ]
  }
 ],
 "metadata": {
  "colab": {
   "name": "Enem2021_Analysis.ipynb",
   "provenance": [],
   "toc_visible": true
  },
  "kernelspec": {
   "display_name": "Python 3 (ipykernel)",
   "language": "python",
   "name": "python3"
  },
  "language_info": {
   "codemirror_mode": {
    "name": "ipython",
    "version": 3
   },
   "file_extension": ".py",
   "mimetype": "text/x-python",
   "name": "python",
   "nbconvert_exporter": "python",
   "pygments_lexer": "ipython3",
   "version": "3.9.7"
  },
  "vscode": {
   "interpreter": {
    "hash": "253cd15c32ffb283b0558be93b097dc27093fe6b891853f454fa08d2f15e4a97"
   }
  }
 },
 "nbformat": 4,
 "nbformat_minor": 4
}
