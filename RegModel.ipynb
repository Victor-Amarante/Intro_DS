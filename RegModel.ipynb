{
 "cells": [
  {
   "cell_type": "markdown",
   "id": "1b47777a",
   "metadata": {},
   "source": [
    "# Projeto de Análise de Dados - Notas do Enem 2021 de Pernambuco\n",
    "\n",
    "### Disciplina: Tópicos Avançados em Gerencimento de Dados e Informações\n",
    "### Alunos: Maria Teresa e Victor Amarante\n",
    "\n",
    "\n",
    "Este projeto de ciência de dados visa entender um pouco mais sobre o comportamento das notas dos vestibulandos do estado de Pernambuco no ano de 2021. A base de dados é pública e foi divulgada no site do Inep. Mais informações sobre a base de dados no link abaixo.\n",
    "\n",
    "> [Microdados do Enem 2021](https://www.gov.br/inep/pt-br/acesso-a-informacao/dados-abertos/microdados/enem)"
   ]
  },
  {
   "cell_type": "markdown",
   "id": "e50e2b5e",
   "metadata": {},
   "source": [
    "## Modelos de Regressão\n",
    "\n",
    "> O objetivo dessa segunda parte do projeto é fazer com que a máquina acerte a nota final no vestibular baseada nas informações dos vestibulandos."
   ]
  },
  {
   "cell_type": "markdown",
   "id": "8236b001",
   "metadata": {},
   "source": [
    "## Load libraries"
   ]
  },
  {
   "cell_type": "code",
   "execution_count": 32,
   "id": "014a06e9",
   "metadata": {},
   "outputs": [],
   "source": [
    "import pandas as pd\n",
    "import numpy as np\n",
    "import seaborn as sns\n",
    "from scipy import stats\n",
    "import matplotlib.pyplot as plt\n",
    "import seaborn as sns\n",
    "from sklearn.model_selection import train_test_split\n",
    "from sklearn.metrics import r2_score, mean_squared_error, mean_absolute_percentage_error, mean_absolute_error"
   ]
  },
  {
   "cell_type": "markdown",
   "id": "b5bd2200",
   "metadata": {},
   "source": [
    "## Load dataset"
   ]
  },
  {
   "cell_type": "code",
   "execution_count": 33,
   "id": "19673925",
   "metadata": {},
   "outputs": [],
   "source": [
    "df = pd.read_csv('df_enem.csv', sep=';', encoding='iso-8859-1')"
   ]
  },
  {
   "cell_type": "markdown",
   "id": "4a2d9a0c",
   "metadata": {},
   "source": [
    "## View data"
   ]
  },
  {
   "cell_type": "code",
   "execution_count": 34,
   "id": "d964de4d",
   "metadata": {},
   "outputs": [
    {
     "data": {
      "text/html": [
       "<div>\n",
       "<style scoped>\n",
       "    .dataframe tbody tr th:only-of-type {\n",
       "        vertical-align: middle;\n",
       "    }\n",
       "\n",
       "    .dataframe tbody tr th {\n",
       "        vertical-align: top;\n",
       "    }\n",
       "\n",
       "    .dataframe thead th {\n",
       "        text-align: right;\n",
       "    }\n",
       "</style>\n",
       "<table border=\"1\" class=\"dataframe\">\n",
       "  <thead>\n",
       "    <tr style=\"text-align: right;\">\n",
       "      <th></th>\n",
       "      <th>Unnamed: 0</th>\n",
       "      <th>FAIXA ETÁRIA</th>\n",
       "      <th>SEXO</th>\n",
       "      <th>COR/RAÇA</th>\n",
       "      <th>SITUAÇÃO DE CONCLUSÃO</th>\n",
       "      <th>TIPO DE ESCOLA</th>\n",
       "      <th>LOCALIZAÇÃO DA ESCOLA</th>\n",
       "      <th>mun</th>\n",
       "      <th>NO_MUNICIPIO_PROVA</th>\n",
       "      <th>IDIOMA</th>\n",
       "      <th>...</th>\n",
       "      <th>NOTA_CH</th>\n",
       "      <th>NOTA_LC</th>\n",
       "      <th>NOTA_COMP1</th>\n",
       "      <th>NOTA_COMP2</th>\n",
       "      <th>NOTA_COMP3</th>\n",
       "      <th>NOTA_COMP4</th>\n",
       "      <th>NOTA_COMP5</th>\n",
       "      <th>NOTA_REDACAO</th>\n",
       "      <th>NOTAS</th>\n",
       "      <th>PRESENCA</th>\n",
       "    </tr>\n",
       "  </thead>\n",
       "  <tbody>\n",
       "    <tr>\n",
       "      <th>0</th>\n",
       "      <td>0</td>\n",
       "      <td>18 anos</td>\n",
       "      <td>M</td>\n",
       "      <td>Preta</td>\n",
       "      <td>Estou cursando e concluirei o EM em 2021</td>\n",
       "      <td>Público</td>\n",
       "      <td>Urbana</td>\n",
       "      <td>2604106</td>\n",
       "      <td>Caruaru</td>\n",
       "      <td>Inglês</td>\n",
       "      <td>...</td>\n",
       "      <td>524.7</td>\n",
       "      <td>456.4</td>\n",
       "      <td>120.0</td>\n",
       "      <td>120.0</td>\n",
       "      <td>120.0</td>\n",
       "      <td>140.0</td>\n",
       "      <td>140.0</td>\n",
       "      <td>640.0</td>\n",
       "      <td>564.96</td>\n",
       "      <td>4</td>\n",
       "    </tr>\n",
       "    <tr>\n",
       "      <th>1</th>\n",
       "      <td>1</td>\n",
       "      <td>18 anos</td>\n",
       "      <td>M</td>\n",
       "      <td>Branca</td>\n",
       "      <td>Estou cursando e concluirei o EM em 2021</td>\n",
       "      <td>Público</td>\n",
       "      <td>Não Consta</td>\n",
       "      <td>2602605</td>\n",
       "      <td>Brejo da Madre de Deus</td>\n",
       "      <td>Inglês</td>\n",
       "      <td>...</td>\n",
       "      <td>453.8</td>\n",
       "      <td>421.4</td>\n",
       "      <td>80.0</td>\n",
       "      <td>120.0</td>\n",
       "      <td>80.0</td>\n",
       "      <td>140.0</td>\n",
       "      <td>120.0</td>\n",
       "      <td>540.0</td>\n",
       "      <td>283.04</td>\n",
       "      <td>2</td>\n",
       "    </tr>\n",
       "    <tr>\n",
       "      <th>2</th>\n",
       "      <td>2</td>\n",
       "      <td>18 anos</td>\n",
       "      <td>F</td>\n",
       "      <td>Parda</td>\n",
       "      <td>Estou cursando e concluirei o EM em 2021</td>\n",
       "      <td>Público</td>\n",
       "      <td>Urbana</td>\n",
       "      <td>2612208</td>\n",
       "      <td>Salgueiro</td>\n",
       "      <td>Espanhol</td>\n",
       "      <td>...</td>\n",
       "      <td>498.3</td>\n",
       "      <td>459.2</td>\n",
       "      <td>120.0</td>\n",
       "      <td>120.0</td>\n",
       "      <td>120.0</td>\n",
       "      <td>120.0</td>\n",
       "      <td>20.0</td>\n",
       "      <td>500.0</td>\n",
       "      <td>494.80</td>\n",
       "      <td>4</td>\n",
       "    </tr>\n",
       "    <tr>\n",
       "      <th>3</th>\n",
       "      <td>3</td>\n",
       "      <td>19 anos</td>\n",
       "      <td>F</td>\n",
       "      <td>Parda</td>\n",
       "      <td>Já concluí o EM</td>\n",
       "      <td>Não respondeu</td>\n",
       "      <td>Não Consta</td>\n",
       "      <td>2604106</td>\n",
       "      <td>Caruaru</td>\n",
       "      <td>Espanhol</td>\n",
       "      <td>...</td>\n",
       "      <td>480.8</td>\n",
       "      <td>458.0</td>\n",
       "      <td>120.0</td>\n",
       "      <td>120.0</td>\n",
       "      <td>120.0</td>\n",
       "      <td>120.0</td>\n",
       "      <td>100.0</td>\n",
       "      <td>580.0</td>\n",
       "      <td>478.34</td>\n",
       "      <td>4</td>\n",
       "    </tr>\n",
       "    <tr>\n",
       "      <th>4</th>\n",
       "      <td>4</td>\n",
       "      <td>Entre 31 e 35 anos</td>\n",
       "      <td>F</td>\n",
       "      <td>Branca</td>\n",
       "      <td>Já concluí o EM</td>\n",
       "      <td>Não respondeu</td>\n",
       "      <td>Não Consta</td>\n",
       "      <td>2607901</td>\n",
       "      <td>Jaboatão dos Guararapes</td>\n",
       "      <td>Espanhol</td>\n",
       "      <td>...</td>\n",
       "      <td>595.1</td>\n",
       "      <td>541.9</td>\n",
       "      <td>120.0</td>\n",
       "      <td>120.0</td>\n",
       "      <td>120.0</td>\n",
       "      <td>120.0</td>\n",
       "      <td>60.0</td>\n",
       "      <td>540.0</td>\n",
       "      <td>535.18</td>\n",
       "      <td>4</td>\n",
       "    </tr>\n",
       "    <tr>\n",
       "      <th>...</th>\n",
       "      <td>...</td>\n",
       "      <td>...</td>\n",
       "      <td>...</td>\n",
       "      <td>...</td>\n",
       "      <td>...</td>\n",
       "      <td>...</td>\n",
       "      <td>...</td>\n",
       "      <td>...</td>\n",
       "      <td>...</td>\n",
       "      <td>...</td>\n",
       "      <td>...</td>\n",
       "      <td>...</td>\n",
       "      <td>...</td>\n",
       "      <td>...</td>\n",
       "      <td>...</td>\n",
       "      <td>...</td>\n",
       "      <td>...</td>\n",
       "      <td>...</td>\n",
       "      <td>...</td>\n",
       "      <td>...</td>\n",
       "      <td>...</td>\n",
       "    </tr>\n",
       "    <tr>\n",
       "      <th>5033</th>\n",
       "      <td>5033</td>\n",
       "      <td>18 anos</td>\n",
       "      <td>F</td>\n",
       "      <td>Branca</td>\n",
       "      <td>Já concluí o EM</td>\n",
       "      <td>Não respondeu</td>\n",
       "      <td>Não Consta</td>\n",
       "      <td>2604007</td>\n",
       "      <td>Carpina</td>\n",
       "      <td>Espanhol</td>\n",
       "      <td>...</td>\n",
       "      <td>531.6</td>\n",
       "      <td>580.1</td>\n",
       "      <td>140.0</td>\n",
       "      <td>180.0</td>\n",
       "      <td>160.0</td>\n",
       "      <td>160.0</td>\n",
       "      <td>160.0</td>\n",
       "      <td>800.0</td>\n",
       "      <td>562.14</td>\n",
       "      <td>4</td>\n",
       "    </tr>\n",
       "    <tr>\n",
       "      <th>5034</th>\n",
       "      <td>5034</td>\n",
       "      <td>22 anos</td>\n",
       "      <td>F</td>\n",
       "      <td>Parda</td>\n",
       "      <td>Já concluí o EM</td>\n",
       "      <td>Não respondeu</td>\n",
       "      <td>Não Consta</td>\n",
       "      <td>2611606</td>\n",
       "      <td>Recife</td>\n",
       "      <td>Inglês</td>\n",
       "      <td>...</td>\n",
       "      <td>624.6</td>\n",
       "      <td>571.6</td>\n",
       "      <td>160.0</td>\n",
       "      <td>200.0</td>\n",
       "      <td>160.0</td>\n",
       "      <td>160.0</td>\n",
       "      <td>180.0</td>\n",
       "      <td>860.0</td>\n",
       "      <td>657.68</td>\n",
       "      <td>4</td>\n",
       "    </tr>\n",
       "    <tr>\n",
       "      <th>5035</th>\n",
       "      <td>5035</td>\n",
       "      <td>Entre 26 e 30 anos</td>\n",
       "      <td>F</td>\n",
       "      <td>Preta</td>\n",
       "      <td>Já concluí o EM</td>\n",
       "      <td>Não respondeu</td>\n",
       "      <td>Não Consta</td>\n",
       "      <td>2611606</td>\n",
       "      <td>Recife</td>\n",
       "      <td>Inglês</td>\n",
       "      <td>...</td>\n",
       "      <td>521.3</td>\n",
       "      <td>466.3</td>\n",
       "      <td>120.0</td>\n",
       "      <td>160.0</td>\n",
       "      <td>120.0</td>\n",
       "      <td>120.0</td>\n",
       "      <td>100.0</td>\n",
       "      <td>620.0</td>\n",
       "      <td>506.22</td>\n",
       "      <td>4</td>\n",
       "    </tr>\n",
       "    <tr>\n",
       "      <th>5036</th>\n",
       "      <td>5036</td>\n",
       "      <td>18 anos</td>\n",
       "      <td>F</td>\n",
       "      <td>Parda</td>\n",
       "      <td>Já concluí o EM</td>\n",
       "      <td>Não respondeu</td>\n",
       "      <td>Não Consta</td>\n",
       "      <td>2614105</td>\n",
       "      <td>Sertânia</td>\n",
       "      <td>Espanhol</td>\n",
       "      <td>...</td>\n",
       "      <td>365.7</td>\n",
       "      <td>451.3</td>\n",
       "      <td>120.0</td>\n",
       "      <td>120.0</td>\n",
       "      <td>80.0</td>\n",
       "      <td>100.0</td>\n",
       "      <td>40.0</td>\n",
       "      <td>460.0</td>\n",
       "      <td>424.56</td>\n",
       "      <td>4</td>\n",
       "    </tr>\n",
       "    <tr>\n",
       "      <th>5037</th>\n",
       "      <td>5037</td>\n",
       "      <td>Menor de 17 anos</td>\n",
       "      <td>F</td>\n",
       "      <td>Parda</td>\n",
       "      <td>Não concluí e não estou cursando o EM</td>\n",
       "      <td>Não respondeu</td>\n",
       "      <td>Não Consta</td>\n",
       "      <td>2604106</td>\n",
       "      <td>Caruaru</td>\n",
       "      <td>Espanhol</td>\n",
       "      <td>...</td>\n",
       "      <td>482.5</td>\n",
       "      <td>491.9</td>\n",
       "      <td>160.0</td>\n",
       "      <td>120.0</td>\n",
       "      <td>120.0</td>\n",
       "      <td>160.0</td>\n",
       "      <td>140.0</td>\n",
       "      <td>700.0</td>\n",
       "      <td>520.08</td>\n",
       "      <td>4</td>\n",
       "    </tr>\n",
       "  </tbody>\n",
       "</table>\n",
       "<p>5038 rows × 25 columns</p>\n",
       "</div>"
      ],
      "text/plain": [
       "      Unnamed: 0        FAIXA ETÁRIA SEXO COR/RAÇA  \\\n",
       "0              0             18 anos    M    Preta   \n",
       "1              1             18 anos    M   Branca   \n",
       "2              2             18 anos    F    Parda   \n",
       "3              3             19 anos    F    Parda   \n",
       "4              4  Entre 31 e 35 anos    F   Branca   \n",
       "...          ...                 ...  ...      ...   \n",
       "5033        5033             18 anos    F   Branca   \n",
       "5034        5034             22 anos    F    Parda   \n",
       "5035        5035  Entre 26 e 30 anos    F    Preta   \n",
       "5036        5036             18 anos    F    Parda   \n",
       "5037        5037    Menor de 17 anos    F    Parda   \n",
       "\n",
       "                         SITUAÇÃO DE CONCLUSÃO TIPO DE ESCOLA  \\\n",
       "0     Estou cursando e concluirei o EM em 2021        Público   \n",
       "1     Estou cursando e concluirei o EM em 2021        Público   \n",
       "2     Estou cursando e concluirei o EM em 2021        Público   \n",
       "3                              Já concluí o EM  Não respondeu   \n",
       "4                              Já concluí o EM  Não respondeu   \n",
       "...                                        ...            ...   \n",
       "5033                           Já concluí o EM  Não respondeu   \n",
       "5034                           Já concluí o EM  Não respondeu   \n",
       "5035                           Já concluí o EM  Não respondeu   \n",
       "5036                           Já concluí o EM  Não respondeu   \n",
       "5037     Não concluí e não estou cursando o EM  Não respondeu   \n",
       "\n",
       "     LOCALIZAÇÃO DA ESCOLA      mun       NO_MUNICIPIO_PROVA    IDIOMA  ...  \\\n",
       "0                   Urbana  2604106                  Caruaru    Inglês  ...   \n",
       "1               Não Consta  2602605   Brejo da Madre de Deus    Inglês  ...   \n",
       "2                   Urbana  2612208                Salgueiro  Espanhol  ...   \n",
       "3               Não Consta  2604106                  Caruaru  Espanhol  ...   \n",
       "4               Não Consta  2607901  Jaboatão dos Guararapes  Espanhol  ...   \n",
       "...                    ...      ...                      ...       ...  ...   \n",
       "5033            Não Consta  2604007                  Carpina  Espanhol  ...   \n",
       "5034            Não Consta  2611606                   Recife    Inglês  ...   \n",
       "5035            Não Consta  2611606                   Recife    Inglês  ...   \n",
       "5036            Não Consta  2614105                 Sertânia  Espanhol  ...   \n",
       "5037            Não Consta  2604106                  Caruaru  Espanhol  ...   \n",
       "\n",
       "     NOTA_CH  NOTA_LC NOTA_COMP1  NOTA_COMP2  NOTA_COMP3  NOTA_COMP4  \\\n",
       "0      524.7    456.4      120.0       120.0       120.0       140.0   \n",
       "1      453.8    421.4       80.0       120.0        80.0       140.0   \n",
       "2      498.3    459.2      120.0       120.0       120.0       120.0   \n",
       "3      480.8    458.0      120.0       120.0       120.0       120.0   \n",
       "4      595.1    541.9      120.0       120.0       120.0       120.0   \n",
       "...      ...      ...        ...         ...         ...         ...   \n",
       "5033   531.6    580.1      140.0       180.0       160.0       160.0   \n",
       "5034   624.6    571.6      160.0       200.0       160.0       160.0   \n",
       "5035   521.3    466.3      120.0       160.0       120.0       120.0   \n",
       "5036   365.7    451.3      120.0       120.0        80.0       100.0   \n",
       "5037   482.5    491.9      160.0       120.0       120.0       160.0   \n",
       "\n",
       "      NOTA_COMP5  NOTA_REDACAO   NOTAS  PRESENCA  \n",
       "0          140.0         640.0  564.96         4  \n",
       "1          120.0         540.0  283.04         2  \n",
       "2           20.0         500.0  494.80         4  \n",
       "3          100.0         580.0  478.34         4  \n",
       "4           60.0         540.0  535.18         4  \n",
       "...          ...           ...     ...       ...  \n",
       "5033       160.0         800.0  562.14         4  \n",
       "5034       180.0         860.0  657.68         4  \n",
       "5035       100.0         620.0  506.22         4  \n",
       "5036        40.0         460.0  424.56         4  \n",
       "5037       140.0         700.0  520.08         4  \n",
       "\n",
       "[5038 rows x 25 columns]"
      ]
     },
     "execution_count": 34,
     "metadata": {},
     "output_type": "execute_result"
    }
   ],
   "source": [
    "df"
   ]
  },
  {
   "cell_type": "markdown",
   "id": "1733915d",
   "metadata": {},
   "source": [
    "## Clean dataset"
   ]
  },
  {
   "cell_type": "code",
   "execution_count": 35,
   "id": "bf08bc02",
   "metadata": {},
   "outputs": [],
   "source": [
    "del df['Unnamed: 0']"
   ]
  },
  {
   "cell_type": "code",
   "execution_count": 36,
   "id": "47c27e94",
   "metadata": {},
   "outputs": [
    {
     "name": "stdout",
     "output_type": "stream",
     "text": [
      "<class 'pandas.core.frame.DataFrame'>\n",
      "RangeIndex: 5038 entries, 0 to 5037\n",
      "Data columns (total 24 columns):\n",
      " #   Column                 Non-Null Count  Dtype  \n",
      "---  ------                 --------------  -----  \n",
      " 0   FAIXA ETÁRIA           5038 non-null   object \n",
      " 1   SEXO                   5038 non-null   object \n",
      " 2   COR/RAÇA               5038 non-null   object \n",
      " 3   SITUAÇÃO DE CONCLUSÃO  5038 non-null   object \n",
      " 4   TIPO DE ESCOLA         5038 non-null   object \n",
      " 5   LOCALIZAÇÃO DA ESCOLA  5038 non-null   object \n",
      " 6   mun                    5038 non-null   int64  \n",
      " 7   NO_MUNICIPIO_PROVA     5038 non-null   object \n",
      " 8   IDIOMA                 5038 non-null   object \n",
      " 9   STATUS DA REDAÇÃO      5038 non-null   object \n",
      " 10  RENDA                  5038 non-null   float64\n",
      " 11  INTERNET               5038 non-null   object \n",
      " 12  NOTA_CN                5038 non-null   float64\n",
      " 13  NOTA_MT                5038 non-null   float64\n",
      " 14  NOTA_CH                5038 non-null   float64\n",
      " 15  NOTA_LC                5038 non-null   float64\n",
      " 16  NOTA_COMP1             5038 non-null   float64\n",
      " 17  NOTA_COMP2             5038 non-null   float64\n",
      " 18  NOTA_COMP3             5038 non-null   float64\n",
      " 19  NOTA_COMP4             5038 non-null   float64\n",
      " 20  NOTA_COMP5             5038 non-null   float64\n",
      " 21  NOTA_REDACAO           5038 non-null   float64\n",
      " 22  NOTAS                  5038 non-null   float64\n",
      " 23  PRESENCA               5038 non-null   int64  \n",
      "dtypes: float64(12), int64(2), object(10)\n",
      "memory usage: 944.8+ KB\n"
     ]
    }
   ],
   "source": [
    "df.info()"
   ]
  },
  {
   "cell_type": "code",
   "execution_count": 37,
   "id": "d68c03a2",
   "metadata": {},
   "outputs": [],
   "source": [
    "df['FAIXA ETÁRIA'] = df['FAIXA ETÁRIA'].astype('category')\n",
    "df['SEXO'] = df['SEXO'].astype('category')\n",
    "df['COR/RAÇA'] = df['COR/RAÇA'].astype('category')\n",
    "df['SITUAÇÃO DE CONCLUSÃO'] = df['SITUAÇÃO DE CONCLUSÃO'].astype('category')\n",
    "df['TIPO DE ESCOLA'] = df['TIPO DE ESCOLA'].astype('category')\n",
    "df['LOCALIZAÇÃO DA ESCOLA'] = df['LOCALIZAÇÃO DA ESCOLA'].astype('category')\n",
    "df['NO_MUNICIPIO_PROVA'] = df['NO_MUNICIPIO_PROVA'].astype('category')\n",
    "df['IDIOMA'] = df['IDIOMA'].astype('category')\n",
    "df['STATUS DA REDAÇÃO'] = df['STATUS DA REDAÇÃO'].astype('category')\n",
    "df['INTERNET'] = df['INTERNET'].astype('category')\n",
    "df['RENDA'] = df['RENDA'].astype('category')"
   ]
  },
  {
   "cell_type": "code",
   "execution_count": 38,
   "id": "2c8fe01a",
   "metadata": {},
   "outputs": [
    {
     "data": {
      "text/plain": [
       "FAIXA ETÁRIA             0\n",
       "SEXO                     0\n",
       "COR/RAÇA                 0\n",
       "SITUAÇÃO DE CONCLUSÃO    0\n",
       "TIPO DE ESCOLA           0\n",
       "LOCALIZAÇÃO DA ESCOLA    0\n",
       "mun                      0\n",
       "NO_MUNICIPIO_PROVA       0\n",
       "IDIOMA                   0\n",
       "STATUS DA REDAÇÃO        0\n",
       "RENDA                    0\n",
       "INTERNET                 0\n",
       "NOTA_CN                  0\n",
       "NOTA_MT                  0\n",
       "NOTA_CH                  0\n",
       "NOTA_LC                  0\n",
       "NOTA_COMP1               0\n",
       "NOTA_COMP2               0\n",
       "NOTA_COMP3               0\n",
       "NOTA_COMP4               0\n",
       "NOTA_COMP5               0\n",
       "NOTA_REDACAO             0\n",
       "NOTAS                    0\n",
       "PRESENCA                 0\n",
       "dtype: int64"
      ]
     },
     "execution_count": 38,
     "metadata": {},
     "output_type": "execute_result"
    }
   ],
   "source": [
    "df.isnull().sum()"
   ]
  },
  {
   "cell_type": "markdown",
   "id": "f9d71e38",
   "metadata": {},
   "source": [
    "## EDA"
   ]
  },
  {
   "cell_type": "markdown",
   "id": "a6ed2ad4",
   "metadata": {},
   "source": [
    "### Quantitative variables"
   ]
  },
  {
   "cell_type": "code",
   "execution_count": 39,
   "id": "fa734fbe",
   "metadata": {},
   "outputs": [
    {
     "data": {
      "text/html": [
       "<div>\n",
       "<style scoped>\n",
       "    .dataframe tbody tr th:only-of-type {\n",
       "        vertical-align: middle;\n",
       "    }\n",
       "\n",
       "    .dataframe tbody tr th {\n",
       "        vertical-align: top;\n",
       "    }\n",
       "\n",
       "    .dataframe thead th {\n",
       "        text-align: right;\n",
       "    }\n",
       "</style>\n",
       "<table border=\"1\" class=\"dataframe\">\n",
       "  <thead>\n",
       "    <tr style=\"text-align: right;\">\n",
       "      <th></th>\n",
       "      <th>mun</th>\n",
       "      <th>NOTA_CN</th>\n",
       "      <th>NOTA_MT</th>\n",
       "      <th>NOTA_CH</th>\n",
       "      <th>NOTA_LC</th>\n",
       "      <th>NOTA_COMP1</th>\n",
       "      <th>NOTA_COMP2</th>\n",
       "      <th>NOTA_COMP3</th>\n",
       "      <th>NOTA_COMP4</th>\n",
       "      <th>NOTA_COMP5</th>\n",
       "      <th>NOTA_REDACAO</th>\n",
       "      <th>NOTAS</th>\n",
       "      <th>PRESENCA</th>\n",
       "    </tr>\n",
       "  </thead>\n",
       "  <tbody>\n",
       "    <tr>\n",
       "      <th>count</th>\n",
       "      <td>5.038000e+03</td>\n",
       "      <td>5038.000000</td>\n",
       "      <td>5038.000000</td>\n",
       "      <td>5038.000000</td>\n",
       "      <td>5038.000000</td>\n",
       "      <td>5038.000000</td>\n",
       "      <td>5038.000000</td>\n",
       "      <td>5038.000000</td>\n",
       "      <td>5038.000000</td>\n",
       "      <td>5038.000000</td>\n",
       "      <td>5038.00000</td>\n",
       "      <td>5038.000000</td>\n",
       "      <td>5038.000000</td>\n",
       "    </tr>\n",
       "    <tr>\n",
       "      <th>mean</th>\n",
       "      <td>2.608821e+06</td>\n",
       "      <td>482.295508</td>\n",
       "      <td>524.468547</td>\n",
       "      <td>508.989831</td>\n",
       "      <td>492.442692</td>\n",
       "      <td>117.648698</td>\n",
       "      <td>139.869481</td>\n",
       "      <td>115.462530</td>\n",
       "      <td>128.174815</td>\n",
       "      <td>115.418596</td>\n",
       "      <td>616.57412</td>\n",
       "      <td>515.616554</td>\n",
       "      <td>3.906312</td>\n",
       "    </tr>\n",
       "    <tr>\n",
       "      <th>std</th>\n",
       "      <td>4.073599e+03</td>\n",
       "      <td>77.230596</td>\n",
       "      <td>107.256564</td>\n",
       "      <td>96.021467</td>\n",
       "      <td>78.897466</td>\n",
       "      <td>34.539284</td>\n",
       "      <td>46.483088</td>\n",
       "      <td>37.321705</td>\n",
       "      <td>39.929524</td>\n",
       "      <td>59.494668</td>\n",
       "      <td>193.76855</td>\n",
       "      <td>103.612505</td>\n",
       "      <td>0.431944</td>\n",
       "    </tr>\n",
       "    <tr>\n",
       "      <th>min</th>\n",
       "      <td>2.600054e+06</td>\n",
       "      <td>0.000000</td>\n",
       "      <td>354.500000</td>\n",
       "      <td>0.000000</td>\n",
       "      <td>0.000000</td>\n",
       "      <td>0.000000</td>\n",
       "      <td>0.000000</td>\n",
       "      <td>0.000000</td>\n",
       "      <td>0.000000</td>\n",
       "      <td>0.000000</td>\n",
       "      <td>0.00000</td>\n",
       "      <td>66.020000</td>\n",
       "      <td>2.000000</td>\n",
       "    </tr>\n",
       "    <tr>\n",
       "      <th>25%</th>\n",
       "      <td>2.605707e+06</td>\n",
       "      <td>424.325000</td>\n",
       "      <td>438.125000</td>\n",
       "      <td>435.700000</td>\n",
       "      <td>438.325000</td>\n",
       "      <td>100.000000</td>\n",
       "      <td>120.000000</td>\n",
       "      <td>100.000000</td>\n",
       "      <td>120.000000</td>\n",
       "      <td>80.000000</td>\n",
       "      <td>520.00000</td>\n",
       "      <td>455.800000</td>\n",
       "      <td>4.000000</td>\n",
       "    </tr>\n",
       "    <tr>\n",
       "      <th>50%</th>\n",
       "      <td>2.610608e+06</td>\n",
       "      <td>470.650000</td>\n",
       "      <td>500.350000</td>\n",
       "      <td>506.750000</td>\n",
       "      <td>495.100000</td>\n",
       "      <td>120.000000</td>\n",
       "      <td>120.000000</td>\n",
       "      <td>120.000000</td>\n",
       "      <td>120.000000</td>\n",
       "      <td>120.000000</td>\n",
       "      <td>600.00000</td>\n",
       "      <td>513.510000</td>\n",
       "      <td>4.000000</td>\n",
       "    </tr>\n",
       "    <tr>\n",
       "      <th>75%</th>\n",
       "      <td>2.611606e+06</td>\n",
       "      <td>531.575000</td>\n",
       "      <td>596.900000</td>\n",
       "      <td>577.675000</td>\n",
       "      <td>546.350000</td>\n",
       "      <td>140.000000</td>\n",
       "      <td>180.000000</td>\n",
       "      <td>140.000000</td>\n",
       "      <td>160.000000</td>\n",
       "      <td>160.000000</td>\n",
       "      <td>740.00000</td>\n",
       "      <td>581.195000</td>\n",
       "      <td>4.000000</td>\n",
       "    </tr>\n",
       "    <tr>\n",
       "      <th>max</th>\n",
       "      <td>2.616407e+06</td>\n",
       "      <td>778.600000</td>\n",
       "      <td>953.100000</td>\n",
       "      <td>832.500000</td>\n",
       "      <td>740.300000</td>\n",
       "      <td>200.000000</td>\n",
       "      <td>200.000000</td>\n",
       "      <td>200.000000</td>\n",
       "      <td>200.000000</td>\n",
       "      <td>200.000000</td>\n",
       "      <td>980.00000</td>\n",
       "      <td>833.440000</td>\n",
       "      <td>6.000000</td>\n",
       "    </tr>\n",
       "  </tbody>\n",
       "</table>\n",
       "</div>"
      ],
      "text/plain": [
       "                mun      NOTA_CN      NOTA_MT      NOTA_CH      NOTA_LC  \\\n",
       "count  5.038000e+03  5038.000000  5038.000000  5038.000000  5038.000000   \n",
       "mean   2.608821e+06   482.295508   524.468547   508.989831   492.442692   \n",
       "std    4.073599e+03    77.230596   107.256564    96.021467    78.897466   \n",
       "min    2.600054e+06     0.000000   354.500000     0.000000     0.000000   \n",
       "25%    2.605707e+06   424.325000   438.125000   435.700000   438.325000   \n",
       "50%    2.610608e+06   470.650000   500.350000   506.750000   495.100000   \n",
       "75%    2.611606e+06   531.575000   596.900000   577.675000   546.350000   \n",
       "max    2.616407e+06   778.600000   953.100000   832.500000   740.300000   \n",
       "\n",
       "        NOTA_COMP1   NOTA_COMP2   NOTA_COMP3   NOTA_COMP4   NOTA_COMP5  \\\n",
       "count  5038.000000  5038.000000  5038.000000  5038.000000  5038.000000   \n",
       "mean    117.648698   139.869481   115.462530   128.174815   115.418596   \n",
       "std      34.539284    46.483088    37.321705    39.929524    59.494668   \n",
       "min       0.000000     0.000000     0.000000     0.000000     0.000000   \n",
       "25%     100.000000   120.000000   100.000000   120.000000    80.000000   \n",
       "50%     120.000000   120.000000   120.000000   120.000000   120.000000   \n",
       "75%     140.000000   180.000000   140.000000   160.000000   160.000000   \n",
       "max     200.000000   200.000000   200.000000   200.000000   200.000000   \n",
       "\n",
       "       NOTA_REDACAO        NOTAS     PRESENCA  \n",
       "count    5038.00000  5038.000000  5038.000000  \n",
       "mean      616.57412   515.616554     3.906312  \n",
       "std       193.76855   103.612505     0.431944  \n",
       "min         0.00000    66.020000     2.000000  \n",
       "25%       520.00000   455.800000     4.000000  \n",
       "50%       600.00000   513.510000     4.000000  \n",
       "75%       740.00000   581.195000     4.000000  \n",
       "max       980.00000   833.440000     6.000000  "
      ]
     },
     "execution_count": 39,
     "metadata": {},
     "output_type": "execute_result"
    }
   ],
   "source": [
    "df.describe()"
   ]
  },
  {
   "cell_type": "code",
   "execution_count": 40,
   "id": "debfcaa4",
   "metadata": {},
   "outputs": [
    {
     "data": {
      "text/plain": [
       "SEXO\n",
       "F    502.411373\n",
       "M    519.372616\n",
       "Name: NOTA_CH, dtype: float64"
      ]
     },
     "execution_count": 40,
     "metadata": {},
     "output_type": "execute_result"
    }
   ],
   "source": [
    "df.groupby('SEXO')['NOTA_CH'].mean()"
   ]
  },
  {
   "cell_type": "code",
   "execution_count": 41,
   "id": "38539010",
   "metadata": {},
   "outputs": [
    {
     "data": {
      "text/plain": [
       "TIPO DE ESCOLA\n",
       "Não respondeu    529.643314\n",
       "Privada          601.937613\n",
       "Público          499.869315\n",
       "Name: NOTA_MT, dtype: float64"
      ]
     },
     "execution_count": 41,
     "metadata": {},
     "output_type": "execute_result"
    }
   ],
   "source": [
    "df.groupby('TIPO DE ESCOLA')['NOTA_MT'].mean()"
   ]
  },
  {
   "cell_type": "code",
   "execution_count": 42,
   "id": "f141d704",
   "metadata": {},
   "outputs": [
    {
     "data": {
      "text/plain": [
       "SITUAÇÃO DE CONCLUSÃO\n",
       "Estou cursando e concluirei o EM em 2021    596.348136\n",
       "Já concluí o EM                             632.570544\n",
       "Não concluí e não estou cursando o EM       612.500000\n",
       "Name: NOTA_REDACAO, dtype: float64"
      ]
     },
     "execution_count": 42,
     "metadata": {},
     "output_type": "execute_result"
    }
   ],
   "source": [
    "df.groupby('SITUAÇÃO DE CONCLUSÃO')['NOTA_REDACAO'].mean()"
   ]
  },
  {
   "cell_type": "code",
   "execution_count": 43,
   "id": "96f0b85b",
   "metadata": {},
   "outputs": [
    {
     "data": {
      "text/plain": [
       "COR/RAÇA\n",
       "Branca           778.6\n",
       "Preta            755.6\n",
       "Parda            752.8\n",
       "Não declarado    720.4\n",
       "Amarela          691.1\n",
       "Indígena         664.0\n",
       "Name: NOTA_CN, dtype: float64"
      ]
     },
     "execution_count": 43,
     "metadata": {},
     "output_type": "execute_result"
    }
   ],
   "source": [
    "df.groupby('COR/RAÇA')['NOTA_CN'].max().sort_values(ascending= False)"
   ]
  },
  {
   "cell_type": "markdown",
   "id": "0d1b00c1",
   "metadata": {},
   "source": [
    "### Qualitative variables"
   ]
  },
  {
   "cell_type": "code",
   "execution_count": 44,
   "id": "14460e61",
   "metadata": {},
   "outputs": [
    {
     "data": {
      "text/plain": [
       "18 anos               1398\n",
       "17 anos                998\n",
       "19 anos                734\n",
       "20 anos                450\n",
       "Entre 26 e 30 anos     266\n",
       "Name: FAIXA ETÁRIA, dtype: int64"
      ]
     },
     "execution_count": 44,
     "metadata": {},
     "output_type": "execute_result"
    }
   ],
   "source": [
    "df[\"FAIXA ETÁRIA\"].value_counts().head()"
   ]
  },
  {
   "cell_type": "code",
   "execution_count": 45,
   "id": "4e277c70",
   "metadata": {},
   "outputs": [
    {
     "data": {
      "text/plain": [
       "F    3084\n",
       "M    1954\n",
       "Name: SEXO, dtype: int64"
      ]
     },
     "execution_count": 45,
     "metadata": {},
     "output_type": "execute_result"
    }
   ],
   "source": [
    "df[\"SEXO\"].value_counts()"
   ]
  },
  {
   "cell_type": "code",
   "execution_count": 46,
   "id": "fbdca916",
   "metadata": {},
   "outputs": [
    {
     "data": {
      "text/plain": [
       "Parda            2466\n",
       "Branca           1687\n",
       "Preta             580\n",
       "Não declarado     114\n",
       "Amarela           110\n",
       "Indígena           81\n",
       "Name: COR/RAÇA, dtype: int64"
      ]
     },
     "execution_count": 46,
     "metadata": {},
     "output_type": "execute_result"
    }
   ],
   "source": [
    "df[\"COR/RAÇA\"].value_counts()"
   ]
  },
  {
   "cell_type": "code",
   "execution_count": 47,
   "id": "746b7899",
   "metadata": {},
   "outputs": [
    {
     "data": {
      "text/plain": [
       "Já concluí o EM                             2806\n",
       "Estou cursando e concluirei o EM em 2021    2216\n",
       "Não concluí e não estou cursando o EM         16\n",
       "Name: SITUAÇÃO DE CONCLUSÃO, dtype: int64"
      ]
     },
     "execution_count": 47,
     "metadata": {},
     "output_type": "execute_result"
    }
   ],
   "source": [
    "df[\"SITUAÇÃO DE CONCLUSÃO\"].value_counts()"
   ]
  },
  {
   "cell_type": "code",
   "execution_count": 48,
   "id": "8ea8cff5",
   "metadata": {},
   "outputs": [
    {
     "data": {
      "text/plain": [
       "Não respondeu    2822\n",
       "Público          1825\n",
       "Privada           391\n",
       "Name: TIPO DE ESCOLA, dtype: int64"
      ]
     },
     "execution_count": 48,
     "metadata": {},
     "output_type": "execute_result"
    }
   ],
   "source": [
    "df[\"TIPO DE ESCOLA\"].value_counts()"
   ]
  },
  {
   "cell_type": "code",
   "execution_count": 49,
   "id": "9ca48799",
   "metadata": {},
   "outputs": [
    {
     "data": {
      "text/plain": [
       "Não Consta    3556\n",
       "Urbana        1427\n",
       "Rural           55\n",
       "Name: LOCALIZAÇÃO DA ESCOLA, dtype: int64"
      ]
     },
     "execution_count": 49,
     "metadata": {},
     "output_type": "execute_result"
    }
   ],
   "source": [
    "df[\"LOCALIZAÇÃO DA ESCOLA\"].value_counts()"
   ]
  },
  {
   "cell_type": "code",
   "execution_count": 50,
   "id": "584ae6be",
   "metadata": {},
   "outputs": [
    {
     "data": {
      "text/plain": [
       "Recife                     1186\n",
       "Petrolina                   311\n",
       "Jaboatão dos Guararapes     250\n",
       "Caruaru                     219\n",
       "Paulista                    198\n",
       "Name: NO_MUNICIPIO_PROVA, dtype: int64"
      ]
     },
     "execution_count": 50,
     "metadata": {},
     "output_type": "execute_result"
    }
   ],
   "source": [
    "df[\"NO_MUNICIPIO_PROVA\"].value_counts().head()"
   ]
  },
  {
   "cell_type": "code",
   "execution_count": 51,
   "id": "3418f4fd",
   "metadata": {},
   "outputs": [
    {
     "data": {
      "text/plain": [
       "Inglês      2683\n",
       "Espanhol    2355\n",
       "Name: IDIOMA, dtype: int64"
      ]
     },
     "execution_count": 51,
     "metadata": {},
     "output_type": "execute_result"
    }
   ],
   "source": [
    "df[\"IDIOMA\"].value_counts()"
   ]
  },
  {
   "cell_type": "code",
   "execution_count": 52,
   "id": "bca8064d",
   "metadata": {},
   "outputs": [
    {
     "data": {
      "text/plain": [
       "Sem problemas                      4849\n",
       "Em Branco                            79\n",
       "Fuga ao tema                         58\n",
       "Cópia Texto Motivador                17\n",
       "Texto insuficiente                   12\n",
       "Não Consta                            9\n",
       "Parte desconectada                    7\n",
       "Anulada                               5\n",
       "Não atendimento ao tipo textual       2\n",
       "Name: STATUS DA REDAÇÃO, dtype: int64"
      ]
     },
     "execution_count": 52,
     "metadata": {},
     "output_type": "execute_result"
    }
   ],
   "source": [
    "df[\"STATUS DA REDAÇÃO\"].value_counts()"
   ]
  },
  {
   "cell_type": "code",
   "execution_count": 53,
   "id": "4cddac48",
   "metadata": {},
   "outputs": [
    {
     "data": {
      "text/plain": [
       "0.5    2032\n",
       "1.0     818\n",
       "1.5     504\n",
       "0.0     496\n",
       "2.5     242\n",
       "Name: RENDA, dtype: int64"
      ]
     },
     "execution_count": 53,
     "metadata": {},
     "output_type": "execute_result"
    }
   ],
   "source": [
    "df[\"RENDA\"].value_counts().head()"
   ]
  },
  {
   "cell_type": "code",
   "execution_count": 54,
   "id": "977289a8",
   "metadata": {},
   "outputs": [
    {
     "data": {
      "text/plain": [
       "NOTAS           1.000000\n",
       "NOTA_REDACAO    0.767133\n",
       "NOTA_CH         0.738864\n",
       "NOTA_LC         0.734396\n",
       "NOTA_MT         0.715134\n",
       "NOTA_CN         0.702553\n",
       "NOTA_COMP3      0.701513\n",
       "NOTA_COMP4      0.698634\n",
       "NOTA_COMP1      0.685928\n",
       "NOTA_COMP5      0.671039\n",
       "NOTA_COMP2      0.665915\n",
       "PRESENCA        0.519404\n",
       "mun             0.048397\n",
       "Name: NOTAS, dtype: float64"
      ]
     },
     "execution_count": 54,
     "metadata": {},
     "output_type": "execute_result"
    }
   ],
   "source": [
    "df.corr()['NOTAS'].sort_values(ascending=False)"
   ]
  },
  {
   "cell_type": "code",
   "execution_count": 55,
   "id": "29609377",
   "metadata": {},
   "outputs": [],
   "source": [
    "df['FAIXA ETÁRIA'] = df['FAIXA ETÁRIA'].cat.codes\n",
    "df['SEXO'] = df['SEXO'].cat.codes\n",
    "df['COR/RAÇA'] = df['COR/RAÇA'].cat.codes\n",
    "df['SITUAÇÃO DE CONCLUSÃO'] = df['SITUAÇÃO DE CONCLUSÃO'].cat.codes\n",
    "df['TIPO DE ESCOLA'] = df['TIPO DE ESCOLA'].cat.codes\n",
    "df['LOCALIZAÇÃO DA ESCOLA'] = df['LOCALIZAÇÃO DA ESCOLA'].cat.codes\n",
    "df['NO_MUNICIPIO_PROVA'] = df['NO_MUNICIPIO_PROVA'].cat.codes\n",
    "df['IDIOMA'] = df['IDIOMA'].cat.codes\n",
    "df['STATUS DA REDAÇÃO'] = df['STATUS DA REDAÇÃO'].cat.codes\n",
    "df['INTERNET'] = df['INTERNET'].cat.codes\n",
    "df['RENDA'] = df['RENDA'].cat.codes"
   ]
  },
  {
   "cell_type": "code",
   "execution_count": 56,
   "id": "2d0a5b5e",
   "metadata": {},
   "outputs": [
    {
     "data": {
      "text/html": [
       "<div>\n",
       "<style scoped>\n",
       "    .dataframe tbody tr th:only-of-type {\n",
       "        vertical-align: middle;\n",
       "    }\n",
       "\n",
       "    .dataframe tbody tr th {\n",
       "        vertical-align: top;\n",
       "    }\n",
       "\n",
       "    .dataframe thead th {\n",
       "        text-align: right;\n",
       "    }\n",
       "</style>\n",
       "<table border=\"1\" class=\"dataframe\">\n",
       "  <thead>\n",
       "    <tr style=\"text-align: right;\">\n",
       "      <th></th>\n",
       "      <th>FAIXA ETÁRIA</th>\n",
       "      <th>SEXO</th>\n",
       "      <th>COR/RAÇA</th>\n",
       "      <th>SITUAÇÃO DE CONCLUSÃO</th>\n",
       "      <th>TIPO DE ESCOLA</th>\n",
       "      <th>LOCALIZAÇÃO DA ESCOLA</th>\n",
       "      <th>mun</th>\n",
       "      <th>NO_MUNICIPIO_PROVA</th>\n",
       "      <th>IDIOMA</th>\n",
       "      <th>STATUS DA REDAÇÃO</th>\n",
       "      <th>...</th>\n",
       "      <th>NOTA_CH</th>\n",
       "      <th>NOTA_LC</th>\n",
       "      <th>NOTA_COMP1</th>\n",
       "      <th>NOTA_COMP2</th>\n",
       "      <th>NOTA_COMP3</th>\n",
       "      <th>NOTA_COMP4</th>\n",
       "      <th>NOTA_COMP5</th>\n",
       "      <th>NOTA_REDACAO</th>\n",
       "      <th>NOTAS</th>\n",
       "      <th>PRESENCA</th>\n",
       "    </tr>\n",
       "  </thead>\n",
       "  <tbody>\n",
       "    <tr>\n",
       "      <th>0</th>\n",
       "      <td>1</td>\n",
       "      <td>1</td>\n",
       "      <td>5</td>\n",
       "      <td>0</td>\n",
       "      <td>2</td>\n",
       "      <td>2</td>\n",
       "      <td>2604106</td>\n",
       "      <td>26</td>\n",
       "      <td>1</td>\n",
       "      <td>7</td>\n",
       "      <td>...</td>\n",
       "      <td>524.7</td>\n",
       "      <td>456.4</td>\n",
       "      <td>120.0</td>\n",
       "      <td>120.0</td>\n",
       "      <td>120.0</td>\n",
       "      <td>140.0</td>\n",
       "      <td>140.0</td>\n",
       "      <td>640.0</td>\n",
       "      <td>564.96</td>\n",
       "      <td>4</td>\n",
       "    </tr>\n",
       "    <tr>\n",
       "      <th>1</th>\n",
       "      <td>1</td>\n",
       "      <td>1</td>\n",
       "      <td>1</td>\n",
       "      <td>0</td>\n",
       "      <td>2</td>\n",
       "      <td>0</td>\n",
       "      <td>2602605</td>\n",
       "      <td>17</td>\n",
       "      <td>1</td>\n",
       "      <td>7</td>\n",
       "      <td>...</td>\n",
       "      <td>453.8</td>\n",
       "      <td>421.4</td>\n",
       "      <td>80.0</td>\n",
       "      <td>120.0</td>\n",
       "      <td>80.0</td>\n",
       "      <td>140.0</td>\n",
       "      <td>120.0</td>\n",
       "      <td>540.0</td>\n",
       "      <td>283.04</td>\n",
       "      <td>2</td>\n",
       "    </tr>\n",
       "    <tr>\n",
       "      <th>2</th>\n",
       "      <td>1</td>\n",
       "      <td>0</td>\n",
       "      <td>4</td>\n",
       "      <td>0</td>\n",
       "      <td>2</td>\n",
       "      <td>2</td>\n",
       "      <td>2612208</td>\n",
       "      <td>66</td>\n",
       "      <td>0</td>\n",
       "      <td>7</td>\n",
       "      <td>...</td>\n",
       "      <td>498.3</td>\n",
       "      <td>459.2</td>\n",
       "      <td>120.0</td>\n",
       "      <td>120.0</td>\n",
       "      <td>120.0</td>\n",
       "      <td>120.0</td>\n",
       "      <td>20.0</td>\n",
       "      <td>500.0</td>\n",
       "      <td>494.80</td>\n",
       "      <td>4</td>\n",
       "    </tr>\n",
       "    <tr>\n",
       "      <th>3</th>\n",
       "      <td>2</td>\n",
       "      <td>0</td>\n",
       "      <td>4</td>\n",
       "      <td>1</td>\n",
       "      <td>0</td>\n",
       "      <td>0</td>\n",
       "      <td>2604106</td>\n",
       "      <td>26</td>\n",
       "      <td>0</td>\n",
       "      <td>7</td>\n",
       "      <td>...</td>\n",
       "      <td>480.8</td>\n",
       "      <td>458.0</td>\n",
       "      <td>120.0</td>\n",
       "      <td>120.0</td>\n",
       "      <td>120.0</td>\n",
       "      <td>120.0</td>\n",
       "      <td>100.0</td>\n",
       "      <td>580.0</td>\n",
       "      <td>478.34</td>\n",
       "      <td>4</td>\n",
       "    </tr>\n",
       "    <tr>\n",
       "      <th>4</th>\n",
       "      <td>10</td>\n",
       "      <td>0</td>\n",
       "      <td>1</td>\n",
       "      <td>1</td>\n",
       "      <td>0</td>\n",
       "      <td>0</td>\n",
       "      <td>2607901</td>\n",
       "      <td>42</td>\n",
       "      <td>0</td>\n",
       "      <td>7</td>\n",
       "      <td>...</td>\n",
       "      <td>595.1</td>\n",
       "      <td>541.9</td>\n",
       "      <td>120.0</td>\n",
       "      <td>120.0</td>\n",
       "      <td>120.0</td>\n",
       "      <td>120.0</td>\n",
       "      <td>60.0</td>\n",
       "      <td>540.0</td>\n",
       "      <td>535.18</td>\n",
       "      <td>4</td>\n",
       "    </tr>\n",
       "  </tbody>\n",
       "</table>\n",
       "<p>5 rows × 24 columns</p>\n",
       "</div>"
      ],
      "text/plain": [
       "   FAIXA ETÁRIA  SEXO  COR/RAÇA  SITUAÇÃO DE CONCLUSÃO  TIPO DE ESCOLA  \\\n",
       "0             1     1         5                      0               2   \n",
       "1             1     1         1                      0               2   \n",
       "2             1     0         4                      0               2   \n",
       "3             2     0         4                      1               0   \n",
       "4            10     0         1                      1               0   \n",
       "\n",
       "   LOCALIZAÇÃO DA ESCOLA      mun  NO_MUNICIPIO_PROVA  IDIOMA  \\\n",
       "0                      2  2604106                  26       1   \n",
       "1                      0  2602605                  17       1   \n",
       "2                      2  2612208                  66       0   \n",
       "3                      0  2604106                  26       0   \n",
       "4                      0  2607901                  42       0   \n",
       "\n",
       "   STATUS DA REDAÇÃO  ...  NOTA_CH  NOTA_LC  NOTA_COMP1  NOTA_COMP2  \\\n",
       "0                  7  ...    524.7    456.4       120.0       120.0   \n",
       "1                  7  ...    453.8    421.4        80.0       120.0   \n",
       "2                  7  ...    498.3    459.2       120.0       120.0   \n",
       "3                  7  ...    480.8    458.0       120.0       120.0   \n",
       "4                  7  ...    595.1    541.9       120.0       120.0   \n",
       "\n",
       "   NOTA_COMP3  NOTA_COMP4  NOTA_COMP5  NOTA_REDACAO   NOTAS  PRESENCA  \n",
       "0       120.0       140.0       140.0         640.0  564.96         4  \n",
       "1        80.0       140.0       120.0         540.0  283.04         2  \n",
       "2       120.0       120.0        20.0         500.0  494.80         4  \n",
       "3       120.0       120.0       100.0         580.0  478.34         4  \n",
       "4       120.0       120.0        60.0         540.0  535.18         4  \n",
       "\n",
       "[5 rows x 24 columns]"
      ]
     },
     "execution_count": 56,
     "metadata": {},
     "output_type": "execute_result"
    }
   ],
   "source": [
    "df.head()"
   ]
  },
  {
   "cell_type": "code",
   "execution_count": 57,
   "id": "1a2c3b23",
   "metadata": {},
   "outputs": [],
   "source": [
    "df = df.drop(['TIPO DE ESCOLA','LOCALIZAÇÃO DA ESCOLA', 'mun', 'NO_MUNICIPIO_PROVA','STATUS DA REDAÇÃO','INTERNET','PRESENCA'], axis = 1)"
   ]
  },
  {
   "cell_type": "code",
   "execution_count": 58,
   "id": "e354300b",
   "metadata": {},
   "outputs": [
    {
     "data": {
      "text/html": [
       "<div>\n",
       "<style scoped>\n",
       "    .dataframe tbody tr th:only-of-type {\n",
       "        vertical-align: middle;\n",
       "    }\n",
       "\n",
       "    .dataframe tbody tr th {\n",
       "        vertical-align: top;\n",
       "    }\n",
       "\n",
       "    .dataframe thead th {\n",
       "        text-align: right;\n",
       "    }\n",
       "</style>\n",
       "<table border=\"1\" class=\"dataframe\">\n",
       "  <thead>\n",
       "    <tr style=\"text-align: right;\">\n",
       "      <th></th>\n",
       "      <th>FAIXA ETÁRIA</th>\n",
       "      <th>SEXO</th>\n",
       "      <th>COR/RAÇA</th>\n",
       "      <th>SITUAÇÃO DE CONCLUSÃO</th>\n",
       "      <th>IDIOMA</th>\n",
       "      <th>RENDA</th>\n",
       "      <th>NOTA_CN</th>\n",
       "      <th>NOTA_MT</th>\n",
       "      <th>NOTA_CH</th>\n",
       "      <th>NOTA_LC</th>\n",
       "      <th>NOTA_COMP1</th>\n",
       "      <th>NOTA_COMP2</th>\n",
       "      <th>NOTA_COMP3</th>\n",
       "      <th>NOTA_COMP4</th>\n",
       "      <th>NOTA_COMP5</th>\n",
       "      <th>NOTA_REDACAO</th>\n",
       "      <th>NOTAS</th>\n",
       "    </tr>\n",
       "  </thead>\n",
       "  <tbody>\n",
       "    <tr>\n",
       "      <th>0</th>\n",
       "      <td>1</td>\n",
       "      <td>1</td>\n",
       "      <td>5</td>\n",
       "      <td>0</td>\n",
       "      <td>1</td>\n",
       "      <td>1</td>\n",
       "      <td>554.200000</td>\n",
       "      <td>649.500000</td>\n",
       "      <td>524.7</td>\n",
       "      <td>456.4</td>\n",
       "      <td>120.0</td>\n",
       "      <td>120.0</td>\n",
       "      <td>120.0</td>\n",
       "      <td>140.0</td>\n",
       "      <td>140.0</td>\n",
       "      <td>640.0</td>\n",
       "      <td>564.96</td>\n",
       "    </tr>\n",
       "    <tr>\n",
       "      <th>1</th>\n",
       "      <td>1</td>\n",
       "      <td>1</td>\n",
       "      <td>1</td>\n",
       "      <td>0</td>\n",
       "      <td>1</td>\n",
       "      <td>1</td>\n",
       "      <td>405.269967</td>\n",
       "      <td>482.724891</td>\n",
       "      <td>453.8</td>\n",
       "      <td>421.4</td>\n",
       "      <td>80.0</td>\n",
       "      <td>120.0</td>\n",
       "      <td>80.0</td>\n",
       "      <td>140.0</td>\n",
       "      <td>120.0</td>\n",
       "      <td>540.0</td>\n",
       "      <td>283.04</td>\n",
       "    </tr>\n",
       "    <tr>\n",
       "      <th>2</th>\n",
       "      <td>1</td>\n",
       "      <td>0</td>\n",
       "      <td>4</td>\n",
       "      <td>0</td>\n",
       "      <td>0</td>\n",
       "      <td>3</td>\n",
       "      <td>410.500000</td>\n",
       "      <td>606.000000</td>\n",
       "      <td>498.3</td>\n",
       "      <td>459.2</td>\n",
       "      <td>120.0</td>\n",
       "      <td>120.0</td>\n",
       "      <td>120.0</td>\n",
       "      <td>120.0</td>\n",
       "      <td>20.0</td>\n",
       "      <td>500.0</td>\n",
       "      <td>494.80</td>\n",
       "    </tr>\n",
       "    <tr>\n",
       "      <th>3</th>\n",
       "      <td>2</td>\n",
       "      <td>0</td>\n",
       "      <td>4</td>\n",
       "      <td>1</td>\n",
       "      <td>0</td>\n",
       "      <td>6</td>\n",
       "      <td>400.900000</td>\n",
       "      <td>472.000000</td>\n",
       "      <td>480.8</td>\n",
       "      <td>458.0</td>\n",
       "      <td>120.0</td>\n",
       "      <td>120.0</td>\n",
       "      <td>120.0</td>\n",
       "      <td>120.0</td>\n",
       "      <td>100.0</td>\n",
       "      <td>580.0</td>\n",
       "      <td>478.34</td>\n",
       "    </tr>\n",
       "    <tr>\n",
       "      <th>4</th>\n",
       "      <td>10</td>\n",
       "      <td>0</td>\n",
       "      <td>1</td>\n",
       "      <td>1</td>\n",
       "      <td>0</td>\n",
       "      <td>3</td>\n",
       "      <td>552.000000</td>\n",
       "      <td>446.900000</td>\n",
       "      <td>595.1</td>\n",
       "      <td>541.9</td>\n",
       "      <td>120.0</td>\n",
       "      <td>120.0</td>\n",
       "      <td>120.0</td>\n",
       "      <td>120.0</td>\n",
       "      <td>60.0</td>\n",
       "      <td>540.0</td>\n",
       "      <td>535.18</td>\n",
       "    </tr>\n",
       "    <tr>\n",
       "      <th>...</th>\n",
       "      <td>...</td>\n",
       "      <td>...</td>\n",
       "      <td>...</td>\n",
       "      <td>...</td>\n",
       "      <td>...</td>\n",
       "      <td>...</td>\n",
       "      <td>...</td>\n",
       "      <td>...</td>\n",
       "      <td>...</td>\n",
       "      <td>...</td>\n",
       "      <td>...</td>\n",
       "      <td>...</td>\n",
       "      <td>...</td>\n",
       "      <td>...</td>\n",
       "      <td>...</td>\n",
       "      <td>...</td>\n",
       "      <td>...</td>\n",
       "    </tr>\n",
       "    <tr>\n",
       "      <th>5033</th>\n",
       "      <td>1</td>\n",
       "      <td>0</td>\n",
       "      <td>1</td>\n",
       "      <td>1</td>\n",
       "      <td>0</td>\n",
       "      <td>4</td>\n",
       "      <td>473.600000</td>\n",
       "      <td>425.400000</td>\n",
       "      <td>531.6</td>\n",
       "      <td>580.1</td>\n",
       "      <td>140.0</td>\n",
       "      <td>180.0</td>\n",
       "      <td>160.0</td>\n",
       "      <td>160.0</td>\n",
       "      <td>160.0</td>\n",
       "      <td>800.0</td>\n",
       "      <td>562.14</td>\n",
       "    </tr>\n",
       "    <tr>\n",
       "      <th>5034</th>\n",
       "      <td>5</td>\n",
       "      <td>0</td>\n",
       "      <td>4</td>\n",
       "      <td>1</td>\n",
       "      <td>1</td>\n",
       "      <td>6</td>\n",
       "      <td>618.500000</td>\n",
       "      <td>613.700000</td>\n",
       "      <td>624.6</td>\n",
       "      <td>571.6</td>\n",
       "      <td>160.0</td>\n",
       "      <td>200.0</td>\n",
       "      <td>160.0</td>\n",
       "      <td>160.0</td>\n",
       "      <td>180.0</td>\n",
       "      <td>860.0</td>\n",
       "      <td>657.68</td>\n",
       "    </tr>\n",
       "    <tr>\n",
       "      <th>5035</th>\n",
       "      <td>9</td>\n",
       "      <td>0</td>\n",
       "      <td>5</td>\n",
       "      <td>1</td>\n",
       "      <td>1</td>\n",
       "      <td>2</td>\n",
       "      <td>449.200000</td>\n",
       "      <td>474.300000</td>\n",
       "      <td>521.3</td>\n",
       "      <td>466.3</td>\n",
       "      <td>120.0</td>\n",
       "      <td>160.0</td>\n",
       "      <td>120.0</td>\n",
       "      <td>120.0</td>\n",
       "      <td>100.0</td>\n",
       "      <td>620.0</td>\n",
       "      <td>506.22</td>\n",
       "    </tr>\n",
       "    <tr>\n",
       "      <th>5036</th>\n",
       "      <td>1</td>\n",
       "      <td>0</td>\n",
       "      <td>4</td>\n",
       "      <td>1</td>\n",
       "      <td>0</td>\n",
       "      <td>1</td>\n",
       "      <td>428.400000</td>\n",
       "      <td>417.400000</td>\n",
       "      <td>365.7</td>\n",
       "      <td>451.3</td>\n",
       "      <td>120.0</td>\n",
       "      <td>120.0</td>\n",
       "      <td>80.0</td>\n",
       "      <td>100.0</td>\n",
       "      <td>40.0</td>\n",
       "      <td>460.0</td>\n",
       "      <td>424.56</td>\n",
       "    </tr>\n",
       "    <tr>\n",
       "      <th>5037</th>\n",
       "      <td>18</td>\n",
       "      <td>0</td>\n",
       "      <td>4</td>\n",
       "      <td>2</td>\n",
       "      <td>0</td>\n",
       "      <td>1</td>\n",
       "      <td>481.100000</td>\n",
       "      <td>444.900000</td>\n",
       "      <td>482.5</td>\n",
       "      <td>491.9</td>\n",
       "      <td>160.0</td>\n",
       "      <td>120.0</td>\n",
       "      <td>120.0</td>\n",
       "      <td>160.0</td>\n",
       "      <td>140.0</td>\n",
       "      <td>700.0</td>\n",
       "      <td>520.08</td>\n",
       "    </tr>\n",
       "  </tbody>\n",
       "</table>\n",
       "<p>5038 rows × 17 columns</p>\n",
       "</div>"
      ],
      "text/plain": [
       "      FAIXA ETÁRIA  SEXO  COR/RAÇA  SITUAÇÃO DE CONCLUSÃO  IDIOMA  RENDA  \\\n",
       "0                1     1         5                      0       1      1   \n",
       "1                1     1         1                      0       1      1   \n",
       "2                1     0         4                      0       0      3   \n",
       "3                2     0         4                      1       0      6   \n",
       "4               10     0         1                      1       0      3   \n",
       "...            ...   ...       ...                    ...     ...    ...   \n",
       "5033             1     0         1                      1       0      4   \n",
       "5034             5     0         4                      1       1      6   \n",
       "5035             9     0         5                      1       1      2   \n",
       "5036             1     0         4                      1       0      1   \n",
       "5037            18     0         4                      2       0      1   \n",
       "\n",
       "         NOTA_CN     NOTA_MT  NOTA_CH  NOTA_LC  NOTA_COMP1  NOTA_COMP2  \\\n",
       "0     554.200000  649.500000    524.7    456.4       120.0       120.0   \n",
       "1     405.269967  482.724891    453.8    421.4        80.0       120.0   \n",
       "2     410.500000  606.000000    498.3    459.2       120.0       120.0   \n",
       "3     400.900000  472.000000    480.8    458.0       120.0       120.0   \n",
       "4     552.000000  446.900000    595.1    541.9       120.0       120.0   \n",
       "...          ...         ...      ...      ...         ...         ...   \n",
       "5033  473.600000  425.400000    531.6    580.1       140.0       180.0   \n",
       "5034  618.500000  613.700000    624.6    571.6       160.0       200.0   \n",
       "5035  449.200000  474.300000    521.3    466.3       120.0       160.0   \n",
       "5036  428.400000  417.400000    365.7    451.3       120.0       120.0   \n",
       "5037  481.100000  444.900000    482.5    491.9       160.0       120.0   \n",
       "\n",
       "      NOTA_COMP3  NOTA_COMP4  NOTA_COMP5  NOTA_REDACAO   NOTAS  \n",
       "0          120.0       140.0       140.0         640.0  564.96  \n",
       "1           80.0       140.0       120.0         540.0  283.04  \n",
       "2          120.0       120.0        20.0         500.0  494.80  \n",
       "3          120.0       120.0       100.0         580.0  478.34  \n",
       "4          120.0       120.0        60.0         540.0  535.18  \n",
       "...          ...         ...         ...           ...     ...  \n",
       "5033       160.0       160.0       160.0         800.0  562.14  \n",
       "5034       160.0       160.0       180.0         860.0  657.68  \n",
       "5035       120.0       120.0       100.0         620.0  506.22  \n",
       "5036        80.0       100.0        40.0         460.0  424.56  \n",
       "5037       120.0       160.0       140.0         700.0  520.08  \n",
       "\n",
       "[5038 rows x 17 columns]"
      ]
     },
     "execution_count": 58,
     "metadata": {},
     "output_type": "execute_result"
    }
   ],
   "source": [
    "df"
   ]
  },
  {
   "cell_type": "code",
   "execution_count": 59,
   "id": "09f279c3",
   "metadata": {},
   "outputs": [],
   "source": [
    "#df.to_csv('df_final.csv', sep=';', encoding='iso-8859-1')"
   ]
  },
  {
   "cell_type": "markdown",
   "id": "a07f6551",
   "metadata": {},
   "source": [
    "## Separação das variáveis"
   ]
  },
  {
   "cell_type": "code",
   "execution_count": 60,
   "id": "3be5db43",
   "metadata": {},
   "outputs": [],
   "source": [
    "y = df.NOTAS\n",
    "x = df.loc[:, df.columns != 'NOTAS']"
   ]
  },
  {
   "cell_type": "markdown",
   "id": "65a8a786",
   "metadata": {},
   "source": [
    "## Separação de treino, teste e validação\n",
    "\n",
    "- Split a base de dados em 2 grupos:\n",
    "    - 70% dos dados para treino\n",
    "    - 30% dos dados para teste\n",
    "        - O grupo de validação será feito automaticamente quando aplicarmos o Cross-Validation (Validação Cruzada). Estaremos iterando entre dados de treino e dados de validação de forma a avaliar o desempenho do modelo de machine learning e que escolher aquele que melhor performar."
   ]
  },
  {
   "cell_type": "code",
   "execution_count": 61,
   "id": "507008f7",
   "metadata": {},
   "outputs": [],
   "source": [
    "# divisao dos dados em train set e test set\n",
    "x_train, x_test, y_train, y_test = train_test_split(x, y, test_size=0.3, random_state=1)"
   ]
  },
  {
   "cell_type": "markdown",
   "id": "2e556107",
   "metadata": {},
   "source": [
    "## Regressão Linear"
   ]
  },
  {
   "cell_type": "code",
   "execution_count": 62,
   "id": "82fbee14",
   "metadata": {},
   "outputs": [],
   "source": [
    "from sklearn.linear_model import LinearRegression\n",
    "\n",
    "reglin = LinearRegression()\n",
    "reglin.fit(x_train, y_train)\n",
    "\n",
    "prediction_reglin = reglin.predict(x_train)"
   ]
  },
  {
   "cell_type": "code",
   "execution_count": 63,
   "id": "d954838b",
   "metadata": {},
   "outputs": [],
   "source": [
    "r2_reglin = r2_score(y_train, prediction_reglin)\n",
    "mse_reglin = mean_squared_error(y_train, prediction_reglin)\n",
    "mape_reglin = mean_absolute_percentage_error(y_train, prediction_reglin)"
   ]
  },
  {
   "cell_type": "code",
   "execution_count": 64,
   "id": "ae6a48ef",
   "metadata": {},
   "outputs": [
    {
     "name": "stdout",
     "output_type": "stream",
     "text": [
      "R2 score ----------------------> 0.8430750555613287\n",
      "Mean Squared Error ------------> 41.20509533708614\n",
      "Mean Absolute Percentage Erros -> 0.054206370391066995\n"
     ]
    }
   ],
   "source": [
    "print(f'R2 score ----------------------> {r2_reglin}')\n",
    "print(f'Mean Squared Error ------------> {np.sqrt(mse_reglin)}')\n",
    "print(f'Mean Absolute Percentage Erros -> {mape_reglin}')"
   ]
  },
  {
   "cell_type": "markdown",
   "id": "3d179eda",
   "metadata": {},
   "source": [
    "## Decision Tree Regressor"
   ]
  },
  {
   "cell_type": "code",
   "execution_count": 65,
   "id": "93d8d81f",
   "metadata": {},
   "outputs": [],
   "source": [
    "from sklearn.tree import DecisionTreeRegressor\n",
    "\n",
    "dtr = DecisionTreeRegressor()\n",
    "dtr.fit(x_train, y_train)\n",
    "\n",
    "prediction_dtr = dtr.predict(x_train)"
   ]
  },
  {
   "cell_type": "code",
   "execution_count": 66,
   "id": "139a0c87",
   "metadata": {},
   "outputs": [],
   "source": [
    "r2_dtr = r2_score(y_train, prediction_dtr)\n",
    "mse_dtr = mean_squared_error(y_train, prediction_dtr)\n",
    "mape_dtr = mean_absolute_percentage_error(y_train, prediction_dtr)"
   ]
  },
  {
   "cell_type": "code",
   "execution_count": 67,
   "id": "9bb7de09",
   "metadata": {},
   "outputs": [
    {
     "name": "stdout",
     "output_type": "stream",
     "text": [
      "R2 score ----------------------> 1.0\n",
      "Mean Squared Error ------------> 1.9145602261757917e-15\n",
      "Mean Absolute Percentage Erros -> 5.548327088763679e-20\n"
     ]
    }
   ],
   "source": [
    "print(f'R2 score ----------------------> {r2_dtr}')\n",
    "print(f'Mean Squared Error ------------> {np.sqrt(mse_dtr)}')\n",
    "print(f'Mean Absolute Percentage Erros -> {mape_dtr}')"
   ]
  },
  {
   "cell_type": "markdown",
   "id": "d4b21e54",
   "metadata": {},
   "source": [
    "## Random Forest Regressor"
   ]
  },
  {
   "cell_type": "code",
   "execution_count": 68,
   "id": "663689d2",
   "metadata": {},
   "outputs": [],
   "source": [
    "from sklearn.ensemble import RandomForestRegressor\n",
    "\n",
    "rf_reg = RandomForestRegressor()\n",
    "rf_reg.fit(x_train, y_train)\n",
    "\n",
    "prediction_rf = rf_reg.predict(x_train)"
   ]
  },
  {
   "cell_type": "code",
   "execution_count": 69,
   "id": "f6b377ba",
   "metadata": {},
   "outputs": [],
   "source": [
    "r2_rf = r2_score(y_train, prediction_rf)\n",
    "mse_rf = mean_squared_error(y_train, prediction_rf)\n",
    "mape_rf = mean_absolute_percentage_error(y_train, prediction_rf)"
   ]
  },
  {
   "cell_type": "code",
   "execution_count": 70,
   "id": "d2fec891",
   "metadata": {},
   "outputs": [
    {
     "name": "stdout",
     "output_type": "stream",
     "text": [
      "R2 score ----------------------> 0.9757323252344662\n",
      "Mean Squared Error ------------> 16.20387985802286\n",
      "Mean Absolute Percentage Erros -> 0.021840849272576936\n"
     ]
    }
   ],
   "source": [
    "print(f'R2 score ----------------------> {r2_rf}')\n",
    "print(f'Mean Squared Error ------------> {np.sqrt(mse_rf)}')\n",
    "print(f'Mean Absolute Percentage Erros -> {mape_rf}')"
   ]
  },
  {
   "cell_type": "markdown",
   "id": "081b56d5",
   "metadata": {},
   "source": [
    "## Support Vector Regression (SVM Library)"
   ]
  },
  {
   "cell_type": "code",
   "execution_count": 71,
   "id": "e312edc0",
   "metadata": {},
   "outputs": [],
   "source": [
    "from sklearn.svm import SVR\n",
    "\n",
    "svr = SVR()\n",
    "svr.fit(x_train, y_train)\n",
    "\n",
    "prediction_svr = svr.predict(x_train)"
   ]
  },
  {
   "cell_type": "code",
   "execution_count": 72,
   "id": "e59dccd2",
   "metadata": {},
   "outputs": [],
   "source": [
    "r2_svr = r2_score(y_train, prediction_svr)\n",
    "mse_svr = mean_squared_error(y_train, prediction_svr)\n",
    "mape_svr = mean_absolute_percentage_error(y_train, prediction_svr)"
   ]
  },
  {
   "cell_type": "code",
   "execution_count": 73,
   "id": "d56f572e",
   "metadata": {},
   "outputs": [
    {
     "name": "stdout",
     "output_type": "stream",
     "text": [
      "R2 score ----------------------> 0.7933255505759135\n",
      "Mean Squared Error ------------> 47.287714709011844\n",
      "Mean Absolute Percentage Erros -> 0.05273568620949559\n"
     ]
    }
   ],
   "source": [
    "print(f'R2 score ----------------------> {r2_svr}')\n",
    "print(f'Mean Squared Error ------------> {np.sqrt(mse_svr)}')\n",
    "print(f'Mean Absolute Percentage Erros -> {mape_svr}')"
   ]
  },
  {
   "cell_type": "markdown",
   "id": "232d988f",
   "metadata": {},
   "source": [
    "## Avaliação com o Cross Validation\n",
    "\n",
    "> É uma técnica muito utilizada para avaliação do desempenho de modelos de machine learning. O método do CV consiste em particionar os dados em conjuntos (partes), onde um conjunto é utilizado para treino e outro conjunto é utilizado para validação e avaliação do desempenho do modelo."
   ]
  },
  {
   "cell_type": "code",
   "execution_count": 74,
   "id": "a1c803d6",
   "metadata": {},
   "outputs": [],
   "source": [
    "from sklearn.model_selection import cross_val_score"
   ]
  },
  {
   "cell_type": "code",
   "execution_count": 75,
   "id": "6562bd84",
   "metadata": {},
   "outputs": [],
   "source": [
    "# definindo uma funcao para printar os resultados do cross validation\n",
    "def display_scores(scores):\n",
    "    print('Scores:', scores)\n",
    "    print('Mean:', scores.mean())\n",
    "    print('Standard deviation', scores.std())"
   ]
  },
  {
   "cell_type": "markdown",
   "id": "ccd1238a",
   "metadata": {},
   "source": [
    "### LinearRegression"
   ]
  },
  {
   "cell_type": "code",
   "execution_count": 76,
   "id": "bab8d373",
   "metadata": {},
   "outputs": [],
   "source": [
    "scores_reglin = cross_val_score(reglin,\n",
    "                        x_train, y_train,\n",
    "                        scoring= 'neg_mean_squared_error',\n",
    "                        cv=10)\n",
    "reglin_scores = np.sqrt(-scores_reglin)"
   ]
  },
  {
   "cell_type": "markdown",
   "id": "9b4357ee",
   "metadata": {},
   "source": [
    "### DecisionTreeRegression"
   ]
  },
  {
   "cell_type": "code",
   "execution_count": 77,
   "id": "81b1ca9d",
   "metadata": {},
   "outputs": [],
   "source": [
    "scores_dtr = cross_val_score(dtr,\n",
    "                        x_train, y_train,\n",
    "                        scoring='neg_mean_squared_error',\n",
    "                        cv=10)\n",
    "dtr_scores = np.sqrt(-scores_dtr)"
   ]
  },
  {
   "cell_type": "markdown",
   "id": "2e6bb95d",
   "metadata": {},
   "source": [
    "### RandomForestRegression"
   ]
  },
  {
   "cell_type": "code",
   "execution_count": 78,
   "id": "68514733",
   "metadata": {},
   "outputs": [],
   "source": [
    "scores_rf_reg = cross_val_score(rf_reg,\n",
    "                        x_train, y_train,\n",
    "                        scoring='neg_mean_squared_error',\n",
    "                        cv=10)\n",
    "rf_scores = np.sqrt(-scores_rf_reg)"
   ]
  },
  {
   "cell_type": "markdown",
   "id": "57dcc3e9",
   "metadata": {},
   "source": [
    "### SVR"
   ]
  },
  {
   "cell_type": "code",
   "execution_count": 79,
   "id": "e69cac9e",
   "metadata": {},
   "outputs": [],
   "source": [
    "scores_svr = cross_val_score(svr,\n",
    "                        x_train, y_train,\n",
    "                        scoring='neg_mean_squared_error',\n",
    "                        cv=10)\n",
    "svr_scores = np.sqrt(-scores_svr)"
   ]
  },
  {
   "cell_type": "markdown",
   "id": "4747a627",
   "metadata": {},
   "source": [
    "### Resultados"
   ]
  },
  {
   "cell_type": "code",
   "execution_count": 80,
   "id": "820d2e40",
   "metadata": {},
   "outputs": [
    {
     "name": "stdout",
     "output_type": "stream",
     "text": [
      "LINEAR REGRESSION\n",
      "Scores: [25.62717627 31.91791067 41.2274466  46.90704055 42.32300989 41.39045456\n",
      " 39.17443951 43.10261846 47.03341792 49.82562569]\n",
      "Mean: 40.85291401393835\n",
      "Standard deviation 6.910042396934769\n",
      "\n",
      "\n",
      "DECISION TREE REGRESSOR\n",
      "Scores: [52.22333296 61.13634047 65.91898091 72.21805808 60.84742727 54.38948517\n",
      " 60.33229505 62.04214945 60.36731024 65.63287979]\n",
      "Mean: 61.510825938058794\n",
      "Standard deviation 5.39998336540261\n",
      "\n",
      "\n",
      "RANDOM FOREST REGRESSOR\n",
      "Scores: [29.43565444 34.9797955  43.0434604  49.53753383 42.95778613 41.84539503\n",
      " 42.39612421 46.25228816 47.31740456 51.24892329]\n",
      "Mean: 42.901436553108496\n",
      "Standard deviation 6.244364637349998\n",
      "\n",
      "\n",
      "SVR\n",
      "Scores: [31.08637317 34.86187407 49.45443966 50.37981528 47.96466092 47.0734719\n",
      " 46.95287843 52.12361472 53.014368   56.55557267]\n",
      "Mean: 46.94670688170975\n",
      "Standard deviation 7.567482093147631\n"
     ]
    }
   ],
   "source": [
    "print('LINEAR REGRESSION')\n",
    "display_scores(reglin_scores)\n",
    "print('\\n')\n",
    "print('DECISION TREE REGRESSOR')\n",
    "display_scores(dtr_scores)\n",
    "print('\\n')\n",
    "print('RANDOM FOREST REGRESSOR')\n",
    "display_scores(rf_scores)\n",
    "print('\\n')\n",
    "print('SVR')\n",
    "display_scores(svr_scores)"
   ]
  },
  {
   "cell_type": "markdown",
   "id": "2d186465",
   "metadata": {},
   "source": [
    "> Podemos observar que houveram dois dos modelos com problema de overfitting, são eles: **Decision Tree Regressor** e **Random Forest Regressor**. Tanto os modelos **Linear Regression** quanto **SVR**, apresentam resultados satisfatórios, entretanto, o modelo de regressão linear apresentou o menor erro médio quadrático. Com isso, o melhor modelo que foi avaliado é o modelo de Regressão Linear, apresentando a menor média de erro após a validação cruzada. Portanto, esse será o modelo escolhido para prosseguir com o projeto."
   ]
  }
 ],
 "metadata": {
  "kernelspec": {
   "display_name": "Python 3 (ipykernel)",
   "language": "python",
   "name": "python3"
  },
  "language_info": {
   "codemirror_mode": {
    "name": "ipython",
    "version": 3
   },
   "file_extension": ".py",
   "mimetype": "text/x-python",
   "name": "python",
   "nbconvert_exporter": "python",
   "pygments_lexer": "ipython3",
   "version": "3.10.2"
  },
  "vscode": {
   "interpreter": {
    "hash": "253cd15c32ffb283b0558be93b097dc27093fe6b891853f454fa08d2f15e4a97"
   }
  }
 },
 "nbformat": 4,
 "nbformat_minor": 5
}
