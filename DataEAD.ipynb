{
 "cells": [
  {
   "cell_type": "markdown",
   "metadata": {
    "id": "s4oz9Vd_QLvD"
   },
   "source": [
    "## Importação das bibliotecas"
   ]
  },
  {
   "cell_type": "code",
   "execution_count": 75,
   "metadata": {
    "id": "qPvhFVa5O06M"
   },
   "outputs": [],
   "source": [
    "import pandas as pd\n",
    "import numpy as np\n",
    "from scipy import stats\n",
    "import matplotlib.pyplot as plt\n",
    "import plotly.express as px\n",
    "import seaborn as sns\n",
    "\n",
    "pd.set_option('display.max_columns', None)\n",
    "plt.style.use('ggplot')"
   ]
  },
  {
   "cell_type": "markdown",
   "metadata": {
    "id": "XpbMQlekP8u5"
   },
   "source": [
    "## Importação e Visualização da base de dados"
   ]
  },
  {
   "cell_type": "code",
   "execution_count": 2,
   "metadata": {
    "colab": {
     "base_uri": "https://localhost:8080/",
     "height": 939
    },
    "id": "FYM0p727PrcD",
    "outputId": "087f51da-55f6-449b-be1b-ea7f96a31a07"
   },
   "outputs": [
    {
     "data": {
      "text/html": [
       "<div>\n",
       "<style scoped>\n",
       "    .dataframe tbody tr th:only-of-type {\n",
       "        vertical-align: middle;\n",
       "    }\n",
       "\n",
       "    .dataframe tbody tr th {\n",
       "        vertical-align: top;\n",
       "    }\n",
       "\n",
       "    .dataframe thead th {\n",
       "        text-align: right;\n",
       "    }\n",
       "</style>\n",
       "<table border=\"1\" class=\"dataframe\">\n",
       "  <thead>\n",
       "    <tr style=\"text-align: right;\">\n",
       "      <th></th>\n",
       "      <th>Unnamed: 0</th>\n",
       "      <th>NU_INSCRICAO</th>\n",
       "      <th>FAIXA ETÁRIA</th>\n",
       "      <th>SEXO</th>\n",
       "      <th>COR/RAÇA</th>\n",
       "      <th>SITUAÇÃO DE CONCLUSÃO</th>\n",
       "      <th>TIPO DE ESCOLA</th>\n",
       "      <th>LOCALIZAÇÃO DA ESCOLA</th>\n",
       "      <th>NO_MUNICIPIO_PROVA</th>\n",
       "      <th>TP_PRESENCA_CN</th>\n",
       "      <th>TP_PRESENCA_CH</th>\n",
       "      <th>TP_PRESENCA_LC</th>\n",
       "      <th>TP_PRESENCA_MT</th>\n",
       "      <th>NOTA_CN</th>\n",
       "      <th>NOTA_CH</th>\n",
       "      <th>NOTA_LC</th>\n",
       "      <th>NOTA_MT</th>\n",
       "      <th>IDIOMA</th>\n",
       "      <th>STATUS DA REDAÇÃO</th>\n",
       "      <th>NOTA_COMP1</th>\n",
       "      <th>NOTA_COMP2</th>\n",
       "      <th>NOTA_COMP3</th>\n",
       "      <th>NOTA_COMP4</th>\n",
       "      <th>NOTA_COMP5</th>\n",
       "      <th>NOTA_REDACAO</th>\n",
       "      <th>RENDA</th>\n",
       "      <th>INTERNET</th>\n",
       "      <th>PRESENCA</th>\n",
       "      <th>NOTAS</th>\n",
       "    </tr>\n",
       "  </thead>\n",
       "  <tbody>\n",
       "    <tr>\n",
       "      <th>0</th>\n",
       "      <td>16</td>\n",
       "      <td>210053788150</td>\n",
       "      <td>22 anos</td>\n",
       "      <td>F</td>\n",
       "      <td>Branca</td>\n",
       "      <td>Já concluí o EM</td>\n",
       "      <td>Não respondeu</td>\n",
       "      <td>Não Consta</td>\n",
       "      <td>São Lourenço da Mata</td>\n",
       "      <td>1</td>\n",
       "      <td>1</td>\n",
       "      <td>1</td>\n",
       "      <td>1</td>\n",
       "      <td>487.9</td>\n",
       "      <td>419.9</td>\n",
       "      <td>488.2</td>\n",
       "      <td>553.1</td>\n",
       "      <td>Inglês</td>\n",
       "      <td>Sem problemas</td>\n",
       "      <td>140.0</td>\n",
       "      <td>120.0</td>\n",
       "      <td>140.0</td>\n",
       "      <td>160.0</td>\n",
       "      <td>160.0</td>\n",
       "      <td>720.0</td>\n",
       "      <td>Até R$ 998,00</td>\n",
       "      <td>Sim</td>\n",
       "      <td>4</td>\n",
       "      <td>2669.1</td>\n",
       "    </tr>\n",
       "    <tr>\n",
       "      <th>1</th>\n",
       "      <td>19</td>\n",
       "      <td>210053797083</td>\n",
       "      <td>Entre 26 e 30 anos</td>\n",
       "      <td>M</td>\n",
       "      <td>Parda</td>\n",
       "      <td>Já concluí o EM</td>\n",
       "      <td>Não respondeu</td>\n",
       "      <td>Não Consta</td>\n",
       "      <td>São Lourenço da Mata</td>\n",
       "      <td>1</td>\n",
       "      <td>1</td>\n",
       "      <td>1</td>\n",
       "      <td>1</td>\n",
       "      <td>388.1</td>\n",
       "      <td>602.0</td>\n",
       "      <td>337.1</td>\n",
       "      <td>629.5</td>\n",
       "      <td>Espanhol</td>\n",
       "      <td>Sem problemas</td>\n",
       "      <td>140.0</td>\n",
       "      <td>200.0</td>\n",
       "      <td>140.0</td>\n",
       "      <td>180.0</td>\n",
       "      <td>200.0</td>\n",
       "      <td>860.0</td>\n",
       "      <td>De R$ 998,01 até R$ 1.497,00</td>\n",
       "      <td>Sim</td>\n",
       "      <td>4</td>\n",
       "      <td>2816.7</td>\n",
       "    </tr>\n",
       "    <tr>\n",
       "      <th>2</th>\n",
       "      <td>50</td>\n",
       "      <td>210051819810</td>\n",
       "      <td>19 anos</td>\n",
       "      <td>F</td>\n",
       "      <td>Parda</td>\n",
       "      <td>Já concluí o EM</td>\n",
       "      <td>Não respondeu</td>\n",
       "      <td>Não Consta</td>\n",
       "      <td>Timbaúba</td>\n",
       "      <td>1</td>\n",
       "      <td>1</td>\n",
       "      <td>1</td>\n",
       "      <td>1</td>\n",
       "      <td>387.0</td>\n",
       "      <td>486.4</td>\n",
       "      <td>436.9</td>\n",
       "      <td>404.0</td>\n",
       "      <td>Espanhol</td>\n",
       "      <td>Sem problemas</td>\n",
       "      <td>100.0</td>\n",
       "      <td>180.0</td>\n",
       "      <td>120.0</td>\n",
       "      <td>120.0</td>\n",
       "      <td>140.0</td>\n",
       "      <td>660.0</td>\n",
       "      <td>Até R$ 998,00</td>\n",
       "      <td>Sim</td>\n",
       "      <td>4</td>\n",
       "      <td>2374.3</td>\n",
       "    </tr>\n",
       "    <tr>\n",
       "      <th>3</th>\n",
       "      <td>57</td>\n",
       "      <td>210054293853</td>\n",
       "      <td>18 anos</td>\n",
       "      <td>F</td>\n",
       "      <td>Parda</td>\n",
       "      <td>Já concluí o EM</td>\n",
       "      <td>Não respondeu</td>\n",
       "      <td>Não Consta</td>\n",
       "      <td>Lagoa Grande</td>\n",
       "      <td>1</td>\n",
       "      <td>1</td>\n",
       "      <td>1</td>\n",
       "      <td>1</td>\n",
       "      <td>507.1</td>\n",
       "      <td>472.2</td>\n",
       "      <td>474.2</td>\n",
       "      <td>506.3</td>\n",
       "      <td>Espanhol</td>\n",
       "      <td>Sem problemas</td>\n",
       "      <td>120.0</td>\n",
       "      <td>120.0</td>\n",
       "      <td>120.0</td>\n",
       "      <td>120.0</td>\n",
       "      <td>100.0</td>\n",
       "      <td>580.0</td>\n",
       "      <td>Nenhuma renda</td>\n",
       "      <td>Sim</td>\n",
       "      <td>4</td>\n",
       "      <td>2539.8</td>\n",
       "    </tr>\n",
       "    <tr>\n",
       "      <th>4</th>\n",
       "      <td>76</td>\n",
       "      <td>210051930402</td>\n",
       "      <td>17 anos</td>\n",
       "      <td>F</td>\n",
       "      <td>Branca</td>\n",
       "      <td>Estou cursando e concluirei o EM em 2021</td>\n",
       "      <td>Privada</td>\n",
       "      <td>Urbana</td>\n",
       "      <td>Surubim</td>\n",
       "      <td>1</td>\n",
       "      <td>1</td>\n",
       "      <td>1</td>\n",
       "      <td>1</td>\n",
       "      <td>587.8</td>\n",
       "      <td>591.6</td>\n",
       "      <td>558.9</td>\n",
       "      <td>644.1</td>\n",
       "      <td>Espanhol</td>\n",
       "      <td>Sem problemas</td>\n",
       "      <td>140.0</td>\n",
       "      <td>180.0</td>\n",
       "      <td>120.0</td>\n",
       "      <td>180.0</td>\n",
       "      <td>200.0</td>\n",
       "      <td>820.0</td>\n",
       "      <td>De R$ 1.497,01 até R$ 1.996,00</td>\n",
       "      <td>Sim</td>\n",
       "      <td>4</td>\n",
       "      <td>3202.4</td>\n",
       "    </tr>\n",
       "    <tr>\n",
       "      <th>...</th>\n",
       "      <td>...</td>\n",
       "      <td>...</td>\n",
       "      <td>...</td>\n",
       "      <td>...</td>\n",
       "      <td>...</td>\n",
       "      <td>...</td>\n",
       "      <td>...</td>\n",
       "      <td>...</td>\n",
       "      <td>...</td>\n",
       "      <td>...</td>\n",
       "      <td>...</td>\n",
       "      <td>...</td>\n",
       "      <td>...</td>\n",
       "      <td>...</td>\n",
       "      <td>...</td>\n",
       "      <td>...</td>\n",
       "      <td>...</td>\n",
       "      <td>...</td>\n",
       "      <td>...</td>\n",
       "      <td>...</td>\n",
       "      <td>...</td>\n",
       "      <td>...</td>\n",
       "      <td>...</td>\n",
       "      <td>...</td>\n",
       "      <td>...</td>\n",
       "      <td>...</td>\n",
       "      <td>...</td>\n",
       "      <td>...</td>\n",
       "      <td>...</td>\n",
       "    </tr>\n",
       "    <tr>\n",
       "      <th>100746</th>\n",
       "      <td>2684875</td>\n",
       "      <td>210051099084</td>\n",
       "      <td>Entre 31 e 35 anos</td>\n",
       "      <td>F</td>\n",
       "      <td>Parda</td>\n",
       "      <td>Já concluí o EM</td>\n",
       "      <td>Não respondeu</td>\n",
       "      <td>Não Consta</td>\n",
       "      <td>Olinda</td>\n",
       "      <td>0</td>\n",
       "      <td>1</td>\n",
       "      <td>1</td>\n",
       "      <td>0</td>\n",
       "      <td>0.0</td>\n",
       "      <td>439.3</td>\n",
       "      <td>377.8</td>\n",
       "      <td>0.0</td>\n",
       "      <td>Espanhol</td>\n",
       "      <td>Fuga ao tema</td>\n",
       "      <td>0.0</td>\n",
       "      <td>0.0</td>\n",
       "      <td>0.0</td>\n",
       "      <td>0.0</td>\n",
       "      <td>0.0</td>\n",
       "      <td>0.0</td>\n",
       "      <td>Até R$ 998,00</td>\n",
       "      <td>Sim</td>\n",
       "      <td>2</td>\n",
       "      <td>817.1</td>\n",
       "    </tr>\n",
       "    <tr>\n",
       "      <th>100747</th>\n",
       "      <td>2684881</td>\n",
       "      <td>210052900056</td>\n",
       "      <td>25 anos</td>\n",
       "      <td>F</td>\n",
       "      <td>Branca</td>\n",
       "      <td>Já concluí o EM</td>\n",
       "      <td>Não respondeu</td>\n",
       "      <td>Não Consta</td>\n",
       "      <td>Recife</td>\n",
       "      <td>1</td>\n",
       "      <td>1</td>\n",
       "      <td>1</td>\n",
       "      <td>1</td>\n",
       "      <td>654.9</td>\n",
       "      <td>727.2</td>\n",
       "      <td>610.9</td>\n",
       "      <td>662.3</td>\n",
       "      <td>Inglês</td>\n",
       "      <td>Sem problemas</td>\n",
       "      <td>160.0</td>\n",
       "      <td>160.0</td>\n",
       "      <td>140.0</td>\n",
       "      <td>180.0</td>\n",
       "      <td>200.0</td>\n",
       "      <td>840.0</td>\n",
       "      <td>De R$ 2.994,01 até R$ 3.992,00</td>\n",
       "      <td>Sim</td>\n",
       "      <td>4</td>\n",
       "      <td>3495.3</td>\n",
       "    </tr>\n",
       "    <tr>\n",
       "      <th>100748</th>\n",
       "      <td>2684951</td>\n",
       "      <td>210051146292</td>\n",
       "      <td>17 anos</td>\n",
       "      <td>F</td>\n",
       "      <td>Branca</td>\n",
       "      <td>Já concluí o EM</td>\n",
       "      <td>Não respondeu</td>\n",
       "      <td>Não Consta</td>\n",
       "      <td>Jaboatão dos Guararapes</td>\n",
       "      <td>1</td>\n",
       "      <td>1</td>\n",
       "      <td>1</td>\n",
       "      <td>1</td>\n",
       "      <td>553.6</td>\n",
       "      <td>553.8</td>\n",
       "      <td>557.7</td>\n",
       "      <td>593.5</td>\n",
       "      <td>Inglês</td>\n",
       "      <td>Sem problemas</td>\n",
       "      <td>120.0</td>\n",
       "      <td>120.0</td>\n",
       "      <td>80.0</td>\n",
       "      <td>120.0</td>\n",
       "      <td>100.0</td>\n",
       "      <td>540.0</td>\n",
       "      <td>De R$ 4.990,01 até R$ 5.988,00</td>\n",
       "      <td>Sim</td>\n",
       "      <td>4</td>\n",
       "      <td>2798.6</td>\n",
       "    </tr>\n",
       "    <tr>\n",
       "      <th>100749</th>\n",
       "      <td>2684977</td>\n",
       "      <td>210053824236</td>\n",
       "      <td>21 anos</td>\n",
       "      <td>F</td>\n",
       "      <td>Branca</td>\n",
       "      <td>Já concluí o EM</td>\n",
       "      <td>Não respondeu</td>\n",
       "      <td>Não Consta</td>\n",
       "      <td>Surubim</td>\n",
       "      <td>1</td>\n",
       "      <td>1</td>\n",
       "      <td>1</td>\n",
       "      <td>1</td>\n",
       "      <td>440.2</td>\n",
       "      <td>463.7</td>\n",
       "      <td>487.6</td>\n",
       "      <td>391.1</td>\n",
       "      <td>Espanhol</td>\n",
       "      <td>Sem problemas</td>\n",
       "      <td>80.0</td>\n",
       "      <td>160.0</td>\n",
       "      <td>120.0</td>\n",
       "      <td>100.0</td>\n",
       "      <td>140.0</td>\n",
       "      <td>600.0</td>\n",
       "      <td>Até R$ 998,00</td>\n",
       "      <td>Sim</td>\n",
       "      <td>4</td>\n",
       "      <td>2382.6</td>\n",
       "    </tr>\n",
       "    <tr>\n",
       "      <th>100750</th>\n",
       "      <td>2685010</td>\n",
       "      <td>210052405677</td>\n",
       "      <td>19 anos</td>\n",
       "      <td>M</td>\n",
       "      <td>Branca</td>\n",
       "      <td>Estou cursando e concluirei o EM em 2021</td>\n",
       "      <td>Público</td>\n",
       "      <td>Urbana</td>\n",
       "      <td>Santa Cruz do Capibaribe</td>\n",
       "      <td>1</td>\n",
       "      <td>1</td>\n",
       "      <td>1</td>\n",
       "      <td>1</td>\n",
       "      <td>466.3</td>\n",
       "      <td>401.7</td>\n",
       "      <td>384.3</td>\n",
       "      <td>459.4</td>\n",
       "      <td>Inglês</td>\n",
       "      <td>Sem problemas</td>\n",
       "      <td>80.0</td>\n",
       "      <td>120.0</td>\n",
       "      <td>100.0</td>\n",
       "      <td>100.0</td>\n",
       "      <td>80.0</td>\n",
       "      <td>480.0</td>\n",
       "      <td>Até R$ 998,00</td>\n",
       "      <td>Sim</td>\n",
       "      <td>4</td>\n",
       "      <td>2191.7</td>\n",
       "    </tr>\n",
       "  </tbody>\n",
       "</table>\n",
       "<p>100751 rows × 29 columns</p>\n",
       "</div>"
      ],
      "text/plain": [
       "        Unnamed: 0  NU_INSCRICAO        FAIXA ETÁRIA SEXO COR/RAÇA  \\\n",
       "0               16  210053788150             22 anos    F   Branca   \n",
       "1               19  210053797083  Entre 26 e 30 anos    M    Parda   \n",
       "2               50  210051819810             19 anos    F    Parda   \n",
       "3               57  210054293853             18 anos    F    Parda   \n",
       "4               76  210051930402             17 anos    F   Branca   \n",
       "...            ...           ...                 ...  ...      ...   \n",
       "100746     2684875  210051099084  Entre 31 e 35 anos    F    Parda   \n",
       "100747     2684881  210052900056             25 anos    F   Branca   \n",
       "100748     2684951  210051146292             17 anos    F   Branca   \n",
       "100749     2684977  210053824236             21 anos    F   Branca   \n",
       "100750     2685010  210052405677             19 anos    M   Branca   \n",
       "\n",
       "                           SITUAÇÃO DE CONCLUSÃO TIPO DE ESCOLA  \\\n",
       "0                                Já concluí o EM  Não respondeu   \n",
       "1                                Já concluí o EM  Não respondeu   \n",
       "2                                Já concluí o EM  Não respondeu   \n",
       "3                                Já concluí o EM  Não respondeu   \n",
       "4       Estou cursando e concluirei o EM em 2021        Privada   \n",
       "...                                          ...            ...   \n",
       "100746                           Já concluí o EM  Não respondeu   \n",
       "100747                           Já concluí o EM  Não respondeu   \n",
       "100748                           Já concluí o EM  Não respondeu   \n",
       "100749                           Já concluí o EM  Não respondeu   \n",
       "100750  Estou cursando e concluirei o EM em 2021        Público   \n",
       "\n",
       "       LOCALIZAÇÃO DA ESCOLA        NO_MUNICIPIO_PROVA  TP_PRESENCA_CN  \\\n",
       "0                 Não Consta      São Lourenço da Mata               1   \n",
       "1                 Não Consta      São Lourenço da Mata               1   \n",
       "2                 Não Consta                  Timbaúba               1   \n",
       "3                 Não Consta              Lagoa Grande               1   \n",
       "4                     Urbana                   Surubim               1   \n",
       "...                      ...                       ...             ...   \n",
       "100746            Não Consta                    Olinda               0   \n",
       "100747            Não Consta                    Recife               1   \n",
       "100748            Não Consta   Jaboatão dos Guararapes               1   \n",
       "100749            Não Consta                   Surubim               1   \n",
       "100750                Urbana  Santa Cruz do Capibaribe               1   \n",
       "\n",
       "        TP_PRESENCA_CH  TP_PRESENCA_LC  TP_PRESENCA_MT  NOTA_CN  NOTA_CH  \\\n",
       "0                    1               1               1    487.9    419.9   \n",
       "1                    1               1               1    388.1    602.0   \n",
       "2                    1               1               1    387.0    486.4   \n",
       "3                    1               1               1    507.1    472.2   \n",
       "4                    1               1               1    587.8    591.6   \n",
       "...                ...             ...             ...      ...      ...   \n",
       "100746               1               1               0      0.0    439.3   \n",
       "100747               1               1               1    654.9    727.2   \n",
       "100748               1               1               1    553.6    553.8   \n",
       "100749               1               1               1    440.2    463.7   \n",
       "100750               1               1               1    466.3    401.7   \n",
       "\n",
       "        NOTA_LC  NOTA_MT    IDIOMA STATUS DA REDAÇÃO  NOTA_COMP1  NOTA_COMP2  \\\n",
       "0         488.2    553.1    Inglês     Sem problemas       140.0       120.0   \n",
       "1         337.1    629.5  Espanhol     Sem problemas       140.0       200.0   \n",
       "2         436.9    404.0  Espanhol     Sem problemas       100.0       180.0   \n",
       "3         474.2    506.3  Espanhol     Sem problemas       120.0       120.0   \n",
       "4         558.9    644.1  Espanhol     Sem problemas       140.0       180.0   \n",
       "...         ...      ...       ...               ...         ...         ...   \n",
       "100746    377.8      0.0  Espanhol      Fuga ao tema         0.0         0.0   \n",
       "100747    610.9    662.3    Inglês     Sem problemas       160.0       160.0   \n",
       "100748    557.7    593.5    Inglês     Sem problemas       120.0       120.0   \n",
       "100749    487.6    391.1  Espanhol     Sem problemas        80.0       160.0   \n",
       "100750    384.3    459.4    Inglês     Sem problemas        80.0       120.0   \n",
       "\n",
       "        NOTA_COMP3  NOTA_COMP4  NOTA_COMP5  NOTA_REDACAO  \\\n",
       "0            140.0       160.0       160.0         720.0   \n",
       "1            140.0       180.0       200.0         860.0   \n",
       "2            120.0       120.0       140.0         660.0   \n",
       "3            120.0       120.0       100.0         580.0   \n",
       "4            120.0       180.0       200.0         820.0   \n",
       "...            ...         ...         ...           ...   \n",
       "100746         0.0         0.0         0.0           0.0   \n",
       "100747       140.0       180.0       200.0         840.0   \n",
       "100748        80.0       120.0       100.0         540.0   \n",
       "100749       120.0       100.0       140.0         600.0   \n",
       "100750       100.0       100.0        80.0         480.0   \n",
       "\n",
       "                                 RENDA INTERNET  PRESENCA   NOTAS  \n",
       "0                        Até R$ 998,00      Sim         4  2669.1  \n",
       "1         De R$ 998,01 até R$ 1.497,00      Sim         4  2816.7  \n",
       "2                        Até R$ 998,00      Sim         4  2374.3  \n",
       "3                        Nenhuma renda      Sim         4  2539.8  \n",
       "4       De R$ 1.497,01 até R$ 1.996,00      Sim         4  3202.4  \n",
       "...                                ...      ...       ...     ...  \n",
       "100746                   Até R$ 998,00      Sim         2   817.1  \n",
       "100747  De R$ 2.994,01 até R$ 3.992,00      Sim         4  3495.3  \n",
       "100748  De R$ 4.990,01 até R$ 5.988,00      Sim         4  2798.6  \n",
       "100749                   Até R$ 998,00      Sim         4  2382.6  \n",
       "100750                   Até R$ 998,00      Sim         4  2191.7  \n",
       "\n",
       "[100751 rows x 29 columns]"
      ]
     },
     "execution_count": 2,
     "metadata": {},
     "output_type": "execute_result"
    }
   ],
   "source": [
    "df = pd.read_csv('enem2021_processed.csv', sep=';', encoding='iso-8859-1')\n",
    "df"
   ]
  },
  {
   "cell_type": "code",
   "execution_count": 3,
   "metadata": {
    "colab": {
     "base_uri": "https://localhost:8080/"
    },
    "id": "WSjCNZrlQdFj",
    "outputId": "a542d18e-1043-490c-aab5-618e4c5038e4"
   },
   "outputs": [
    {
     "name": "stdout",
     "output_type": "stream",
     "text": [
      "<class 'pandas.core.frame.DataFrame'>\n",
      "RangeIndex: 100751 entries, 0 to 100750\n",
      "Data columns (total 29 columns):\n",
      " #   Column                 Non-Null Count   Dtype  \n",
      "---  ------                 --------------   -----  \n",
      " 0   Unnamed: 0             100751 non-null  int64  \n",
      " 1   NU_INSCRICAO           100751 non-null  int64  \n",
      " 2   FAIXA ETÁRIA           100751 non-null  object \n",
      " 3   SEXO                   100751 non-null  object \n",
      " 4   COR/RAÇA               100751 non-null  object \n",
      " 5   SITUAÇÃO DE CONCLUSÃO  100751 non-null  object \n",
      " 6   TIPO DE ESCOLA         100751 non-null  object \n",
      " 7   LOCALIZAÇÃO DA ESCOLA  100751 non-null  object \n",
      " 8   NO_MUNICIPIO_PROVA     100751 non-null  object \n",
      " 9   TP_PRESENCA_CN         100751 non-null  int64  \n",
      " 10  TP_PRESENCA_CH         100751 non-null  int64  \n",
      " 11  TP_PRESENCA_LC         100751 non-null  int64  \n",
      " 12  TP_PRESENCA_MT         100751 non-null  int64  \n",
      " 13  NOTA_CN                100751 non-null  float64\n",
      " 14  NOTA_CH                100751 non-null  float64\n",
      " 15  NOTA_LC                100751 non-null  float64\n",
      " 16  NOTA_MT                100751 non-null  float64\n",
      " 17  IDIOMA                 100751 non-null  object \n",
      " 18  STATUS DA REDAÇÃO      100751 non-null  object \n",
      " 19  NOTA_COMP1             100751 non-null  float64\n",
      " 20  NOTA_COMP2             100751 non-null  float64\n",
      " 21  NOTA_COMP3             100751 non-null  float64\n",
      " 22  NOTA_COMP4             100751 non-null  float64\n",
      " 23  NOTA_COMP5             100751 non-null  float64\n",
      " 24  NOTA_REDACAO           100751 non-null  float64\n",
      " 25  RENDA                  100751 non-null  object \n",
      " 26  INTERNET               100751 non-null  object \n",
      " 27  PRESENCA               100751 non-null  int64  \n",
      " 28  NOTAS                  100751 non-null  float64\n",
      "dtypes: float64(11), int64(7), object(11)\n",
      "memory usage: 22.3+ MB\n"
     ]
    }
   ],
   "source": [
    "df.info()"
   ]
  },
  {
   "cell_type": "markdown",
   "metadata": {
    "id": "6gcrOaBCQTnp"
   },
   "source": [
    "## Tratamento e Limpeza de Dados"
   ]
  },
  {
   "cell_type": "code",
   "execution_count": 4,
   "metadata": {
    "id": "IrNVu1zjP21Q"
   },
   "outputs": [],
   "source": [
    "df.drop(columns=['Unnamed: 0','NU_INSCRICAO','TP_PRESENCA_CN','TP_PRESENCA_CH','TP_PRESENCA_LC','TP_PRESENCA_MT','PRESENCA','NOTAS'],inplace=True)"
   ]
  },
  {
   "cell_type": "code",
   "execution_count": 5,
   "metadata": {
    "colab": {
     "base_uri": "https://localhost:8080/"
    },
    "id": "R1XI0nW2VC0F",
    "outputId": "04837912-9e2d-4239-9cca-f7dd8d489083"
   },
   "outputs": [
    {
     "data": {
      "text/plain": [
       "Index(['FAIXA ETÁRIA', 'SEXO', 'COR/RAÇA', 'SITUAÇÃO DE CONCLUSÃO',\n",
       "       'TIPO DE ESCOLA', 'LOCALIZAÇÃO DA ESCOLA', 'NO_MUNICIPIO_PROVA',\n",
       "       'NOTA_CN', 'NOTA_CH', 'NOTA_LC', 'NOTA_MT', 'IDIOMA',\n",
       "       'STATUS DA REDAÇÃO', 'NOTA_COMP1', 'NOTA_COMP2', 'NOTA_COMP3',\n",
       "       'NOTA_COMP4', 'NOTA_COMP5', 'NOTA_REDACAO', 'RENDA', 'INTERNET'],\n",
       "      dtype='object')"
      ]
     },
     "execution_count": 5,
     "metadata": {},
     "output_type": "execute_result"
    }
   ],
   "source": [
    "df.columns"
   ]
  },
  {
   "cell_type": "code",
   "execution_count": 6,
   "metadata": {
    "id": "zP4Qz47xUaRs"
   },
   "outputs": [],
   "source": [
    "df = df[['FAIXA ETÁRIA', 'SEXO', 'COR/RAÇA', 'SITUAÇÃO DE CONCLUSÃO',\n",
    "       'TIPO DE ESCOLA', 'LOCALIZAÇÃO DA ESCOLA', 'NO_MUNICIPIO_PROVA',\n",
    "       'NOTA_CN', 'NOTA_CH', 'NOTA_LC', 'NOTA_MT','NOTA_COMP1', 'NOTA_COMP2',\n",
    "       'NOTA_COMP3','NOTA_COMP4', 'NOTA_COMP5', 'NOTA_REDACAO','STATUS DA REDAÇÃO',\n",
    "       'IDIOMA','RENDA', 'INTERNET']]"
   ]
  },
  {
   "cell_type": "code",
   "execution_count": 7,
   "metadata": {},
   "outputs": [
    {
     "name": "stdout",
     "output_type": "stream",
     "text": [
      "<class 'pandas.core.frame.DataFrame'>\n",
      "RangeIndex: 100751 entries, 0 to 100750\n",
      "Data columns (total 21 columns):\n",
      " #   Column                 Non-Null Count   Dtype  \n",
      "---  ------                 --------------   -----  \n",
      " 0   FAIXA ETÁRIA           100751 non-null  object \n",
      " 1   SEXO                   100751 non-null  object \n",
      " 2   COR/RAÇA               100751 non-null  object \n",
      " 3   SITUAÇÃO DE CONCLUSÃO  100751 non-null  object \n",
      " 4   TIPO DE ESCOLA         100751 non-null  object \n",
      " 5   LOCALIZAÇÃO DA ESCOLA  100751 non-null  object \n",
      " 6   NO_MUNICIPIO_PROVA     100751 non-null  object \n",
      " 7   NOTA_CN                100751 non-null  float64\n",
      " 8   NOTA_CH                100751 non-null  float64\n",
      " 9   NOTA_LC                100751 non-null  float64\n",
      " 10  NOTA_MT                100751 non-null  float64\n",
      " 11  NOTA_COMP1             100751 non-null  float64\n",
      " 12  NOTA_COMP2             100751 non-null  float64\n",
      " 13  NOTA_COMP3             100751 non-null  float64\n",
      " 14  NOTA_COMP4             100751 non-null  float64\n",
      " 15  NOTA_COMP5             100751 non-null  float64\n",
      " 16  NOTA_REDACAO           100751 non-null  float64\n",
      " 17  STATUS DA REDAÇÃO      100751 non-null  object \n",
      " 18  IDIOMA                 100751 non-null  object \n",
      " 19  RENDA                  100751 non-null  object \n",
      " 20  INTERNET               100751 non-null  object \n",
      "dtypes: float64(10), object(11)\n",
      "memory usage: 16.1+ MB\n"
     ]
    }
   ],
   "source": [
    "df.info()"
   ]
  },
  {
   "cell_type": "code",
   "execution_count": 8,
   "metadata": {},
   "outputs": [
    {
     "name": "stderr",
     "output_type": "stream",
     "text": [
      "C:\\Users\\victo\\AppData\\Local\\Temp/ipykernel_72924/956387623.py:3: SettingWithCopyWarning: \n",
      "A value is trying to be set on a copy of a slice from a DataFrame.\n",
      "Try using .loc[row_indexer,col_indexer] = value instead\n",
      "\n",
      "See the caveats in the documentation: https://pandas.pydata.org/pandas-docs/stable/user_guide/indexing.html#returning-a-view-versus-a-copy\n",
      "  df['ID'] = lista\n"
     ]
    }
   ],
   "source": [
    "lista = list(range(1, len(df)+1))\n",
    "lista = pd.DataFrame(lista)\n",
    "df['ID'] = lista"
   ]
  },
  {
   "cell_type": "code",
   "execution_count": 9,
   "metadata": {
    "colab": {
     "base_uri": "https://localhost:8080/",
     "height": 478
    },
    "id": "dls2o67HVX68",
    "outputId": "69c71ec4-5f9a-4b79-ddb9-5630117bd5f4"
   },
   "outputs": [
    {
     "data": {
      "text/html": [
       "<div>\n",
       "<style scoped>\n",
       "    .dataframe tbody tr th:only-of-type {\n",
       "        vertical-align: middle;\n",
       "    }\n",
       "\n",
       "    .dataframe tbody tr th {\n",
       "        vertical-align: top;\n",
       "    }\n",
       "\n",
       "    .dataframe thead th {\n",
       "        text-align: right;\n",
       "    }\n",
       "</style>\n",
       "<table border=\"1\" class=\"dataframe\">\n",
       "  <thead>\n",
       "    <tr style=\"text-align: right;\">\n",
       "      <th></th>\n",
       "      <th>FAIXA ETÁRIA</th>\n",
       "      <th>SEXO</th>\n",
       "      <th>COR/RAÇA</th>\n",
       "      <th>SITUAÇÃO DE CONCLUSÃO</th>\n",
       "      <th>TIPO DE ESCOLA</th>\n",
       "      <th>LOCALIZAÇÃO DA ESCOLA</th>\n",
       "      <th>NO_MUNICIPIO_PROVA</th>\n",
       "      <th>NOTA_CN</th>\n",
       "      <th>NOTA_CH</th>\n",
       "      <th>NOTA_LC</th>\n",
       "      <th>NOTA_MT</th>\n",
       "      <th>NOTA_COMP1</th>\n",
       "      <th>NOTA_COMP2</th>\n",
       "      <th>NOTA_COMP3</th>\n",
       "      <th>NOTA_COMP4</th>\n",
       "      <th>NOTA_COMP5</th>\n",
       "      <th>NOTA_REDACAO</th>\n",
       "      <th>STATUS DA REDAÇÃO</th>\n",
       "      <th>IDIOMA</th>\n",
       "      <th>RENDA</th>\n",
       "      <th>INTERNET</th>\n",
       "      <th>ID</th>\n",
       "    </tr>\n",
       "  </thead>\n",
       "  <tbody>\n",
       "    <tr>\n",
       "      <th>0</th>\n",
       "      <td>22 anos</td>\n",
       "      <td>F</td>\n",
       "      <td>Branca</td>\n",
       "      <td>Já concluí o EM</td>\n",
       "      <td>Não respondeu</td>\n",
       "      <td>Não Consta</td>\n",
       "      <td>São Lourenço da Mata</td>\n",
       "      <td>487.9</td>\n",
       "      <td>419.9</td>\n",
       "      <td>488.2</td>\n",
       "      <td>553.1</td>\n",
       "      <td>140.0</td>\n",
       "      <td>120.0</td>\n",
       "      <td>140.0</td>\n",
       "      <td>160.0</td>\n",
       "      <td>160.0</td>\n",
       "      <td>720.0</td>\n",
       "      <td>Sem problemas</td>\n",
       "      <td>Inglês</td>\n",
       "      <td>Até R$ 998,00</td>\n",
       "      <td>Sim</td>\n",
       "      <td>1</td>\n",
       "    </tr>\n",
       "    <tr>\n",
       "      <th>1</th>\n",
       "      <td>Entre 26 e 30 anos</td>\n",
       "      <td>M</td>\n",
       "      <td>Parda</td>\n",
       "      <td>Já concluí o EM</td>\n",
       "      <td>Não respondeu</td>\n",
       "      <td>Não Consta</td>\n",
       "      <td>São Lourenço da Mata</td>\n",
       "      <td>388.1</td>\n",
       "      <td>602.0</td>\n",
       "      <td>337.1</td>\n",
       "      <td>629.5</td>\n",
       "      <td>140.0</td>\n",
       "      <td>200.0</td>\n",
       "      <td>140.0</td>\n",
       "      <td>180.0</td>\n",
       "      <td>200.0</td>\n",
       "      <td>860.0</td>\n",
       "      <td>Sem problemas</td>\n",
       "      <td>Espanhol</td>\n",
       "      <td>De R$ 998,01 até R$ 1.497,00</td>\n",
       "      <td>Sim</td>\n",
       "      <td>2</td>\n",
       "    </tr>\n",
       "    <tr>\n",
       "      <th>2</th>\n",
       "      <td>19 anos</td>\n",
       "      <td>F</td>\n",
       "      <td>Parda</td>\n",
       "      <td>Já concluí o EM</td>\n",
       "      <td>Não respondeu</td>\n",
       "      <td>Não Consta</td>\n",
       "      <td>Timbaúba</td>\n",
       "      <td>387.0</td>\n",
       "      <td>486.4</td>\n",
       "      <td>436.9</td>\n",
       "      <td>404.0</td>\n",
       "      <td>100.0</td>\n",
       "      <td>180.0</td>\n",
       "      <td>120.0</td>\n",
       "      <td>120.0</td>\n",
       "      <td>140.0</td>\n",
       "      <td>660.0</td>\n",
       "      <td>Sem problemas</td>\n",
       "      <td>Espanhol</td>\n",
       "      <td>Até R$ 998,00</td>\n",
       "      <td>Sim</td>\n",
       "      <td>3</td>\n",
       "    </tr>\n",
       "    <tr>\n",
       "      <th>3</th>\n",
       "      <td>18 anos</td>\n",
       "      <td>F</td>\n",
       "      <td>Parda</td>\n",
       "      <td>Já concluí o EM</td>\n",
       "      <td>Não respondeu</td>\n",
       "      <td>Não Consta</td>\n",
       "      <td>Lagoa Grande</td>\n",
       "      <td>507.1</td>\n",
       "      <td>472.2</td>\n",
       "      <td>474.2</td>\n",
       "      <td>506.3</td>\n",
       "      <td>120.0</td>\n",
       "      <td>120.0</td>\n",
       "      <td>120.0</td>\n",
       "      <td>120.0</td>\n",
       "      <td>100.0</td>\n",
       "      <td>580.0</td>\n",
       "      <td>Sem problemas</td>\n",
       "      <td>Espanhol</td>\n",
       "      <td>Nenhuma renda</td>\n",
       "      <td>Sim</td>\n",
       "      <td>4</td>\n",
       "    </tr>\n",
       "    <tr>\n",
       "      <th>4</th>\n",
       "      <td>17 anos</td>\n",
       "      <td>F</td>\n",
       "      <td>Branca</td>\n",
       "      <td>Estou cursando e concluirei o EM em 2021</td>\n",
       "      <td>Privada</td>\n",
       "      <td>Urbana</td>\n",
       "      <td>Surubim</td>\n",
       "      <td>587.8</td>\n",
       "      <td>591.6</td>\n",
       "      <td>558.9</td>\n",
       "      <td>644.1</td>\n",
       "      <td>140.0</td>\n",
       "      <td>180.0</td>\n",
       "      <td>120.0</td>\n",
       "      <td>180.0</td>\n",
       "      <td>200.0</td>\n",
       "      <td>820.0</td>\n",
       "      <td>Sem problemas</td>\n",
       "      <td>Espanhol</td>\n",
       "      <td>De R$ 1.497,01 até R$ 1.996,00</td>\n",
       "      <td>Sim</td>\n",
       "      <td>5</td>\n",
       "    </tr>\n",
       "  </tbody>\n",
       "</table>\n",
       "</div>"
      ],
      "text/plain": [
       "         FAIXA ETÁRIA SEXO COR/RAÇA                     SITUAÇÃO DE CONCLUSÃO  \\\n",
       "0             22 anos    F   Branca                           Já concluí o EM   \n",
       "1  Entre 26 e 30 anos    M    Parda                           Já concluí o EM   \n",
       "2             19 anos    F    Parda                           Já concluí o EM   \n",
       "3             18 anos    F    Parda                           Já concluí o EM   \n",
       "4             17 anos    F   Branca  Estou cursando e concluirei o EM em 2021   \n",
       "\n",
       "  TIPO DE ESCOLA LOCALIZAÇÃO DA ESCOLA    NO_MUNICIPIO_PROVA  NOTA_CN  \\\n",
       "0  Não respondeu            Não Consta  São Lourenço da Mata    487.9   \n",
       "1  Não respondeu            Não Consta  São Lourenço da Mata    388.1   \n",
       "2  Não respondeu            Não Consta              Timbaúba    387.0   \n",
       "3  Não respondeu            Não Consta          Lagoa Grande    507.1   \n",
       "4        Privada                Urbana               Surubim    587.8   \n",
       "\n",
       "   NOTA_CH  NOTA_LC  NOTA_MT  NOTA_COMP1  NOTA_COMP2  NOTA_COMP3  NOTA_COMP4  \\\n",
       "0    419.9    488.2    553.1       140.0       120.0       140.0       160.0   \n",
       "1    602.0    337.1    629.5       140.0       200.0       140.0       180.0   \n",
       "2    486.4    436.9    404.0       100.0       180.0       120.0       120.0   \n",
       "3    472.2    474.2    506.3       120.0       120.0       120.0       120.0   \n",
       "4    591.6    558.9    644.1       140.0       180.0       120.0       180.0   \n",
       "\n",
       "   NOTA_COMP5  NOTA_REDACAO STATUS DA REDAÇÃO    IDIOMA  \\\n",
       "0       160.0         720.0     Sem problemas    Inglês   \n",
       "1       200.0         860.0     Sem problemas  Espanhol   \n",
       "2       140.0         660.0     Sem problemas  Espanhol   \n",
       "3       100.0         580.0     Sem problemas  Espanhol   \n",
       "4       200.0         820.0     Sem problemas  Espanhol   \n",
       "\n",
       "                            RENDA INTERNET  ID  \n",
       "0                   Até R$ 998,00      Sim   1  \n",
       "1    De R$ 998,01 até R$ 1.497,00      Sim   2  \n",
       "2                   Até R$ 998,00      Sim   3  \n",
       "3                   Nenhuma renda      Sim   4  \n",
       "4  De R$ 1.497,01 até R$ 1.996,00      Sim   5  "
      ]
     },
     "execution_count": 9,
     "metadata": {},
     "output_type": "execute_result"
    }
   ],
   "source": [
    "df.head()"
   ]
  },
  {
   "cell_type": "markdown",
   "metadata": {
    "id": "w3Wn4AExVm48"
   },
   "source": [
    "## Análise Exploratória dos Dados"
   ]
  },
  {
   "cell_type": "code",
   "execution_count": 10,
   "metadata": {
    "colab": {
     "base_uri": "https://localhost:8080/",
     "height": 364
    },
    "id": "pwXeZFEiZD0j",
    "outputId": "f2c766e2-5abc-4965-ddf1-ce61c1e0a351"
   },
   "outputs": [
    {
     "data": {
      "text/html": [
       "<div>\n",
       "<style scoped>\n",
       "    .dataframe tbody tr th:only-of-type {\n",
       "        vertical-align: middle;\n",
       "    }\n",
       "\n",
       "    .dataframe tbody tr th {\n",
       "        vertical-align: top;\n",
       "    }\n",
       "\n",
       "    .dataframe thead th {\n",
       "        text-align: right;\n",
       "    }\n",
       "</style>\n",
       "<table border=\"1\" class=\"dataframe\">\n",
       "  <thead>\n",
       "    <tr style=\"text-align: right;\">\n",
       "      <th></th>\n",
       "      <th>NOTA_CN</th>\n",
       "      <th>NOTA_CH</th>\n",
       "      <th>NOTA_LC</th>\n",
       "      <th>NOTA_MT</th>\n",
       "      <th>NOTA_COMP1</th>\n",
       "      <th>NOTA_COMP2</th>\n",
       "      <th>NOTA_COMP3</th>\n",
       "      <th>NOTA_COMP4</th>\n",
       "      <th>NOTA_COMP5</th>\n",
       "      <th>NOTA_REDACAO</th>\n",
       "      <th>ID</th>\n",
       "    </tr>\n",
       "  </thead>\n",
       "  <tbody>\n",
       "    <tr>\n",
       "      <th>count</th>\n",
       "      <td>100751.000000</td>\n",
       "      <td>100751.000000</td>\n",
       "      <td>100751.000000</td>\n",
       "      <td>100751.000000</td>\n",
       "      <td>100751.000000</td>\n",
       "      <td>100751.000000</td>\n",
       "      <td>100751.000000</td>\n",
       "      <td>100751.000000</td>\n",
       "      <td>100751.000000</td>\n",
       "      <td>100751.000000</td>\n",
       "      <td>100751.000000</td>\n",
       "    </tr>\n",
       "    <tr>\n",
       "      <th>mean</th>\n",
       "      <td>463.146548</td>\n",
       "      <td>507.994400</td>\n",
       "      <td>492.316817</td>\n",
       "      <td>504.037548</td>\n",
       "      <td>117.546029</td>\n",
       "      <td>140.196127</td>\n",
       "      <td>116.161428</td>\n",
       "      <td>128.624828</td>\n",
       "      <td>115.934333</td>\n",
       "      <td>618.462745</td>\n",
       "      <td>50376.000000</td>\n",
       "    </tr>\n",
       "    <tr>\n",
       "      <th>std</th>\n",
       "      <td>125.219801</td>\n",
       "      <td>97.749328</td>\n",
       "      <td>81.328320</td>\n",
       "      <td>150.789256</td>\n",
       "      <td>35.157452</td>\n",
       "      <td>47.044599</td>\n",
       "      <td>37.825336</td>\n",
       "      <td>40.632978</td>\n",
       "      <td>59.840037</td>\n",
       "      <td>197.572049</td>\n",
       "      <td>29084.452823</td>\n",
       "    </tr>\n",
       "    <tr>\n",
       "      <th>min</th>\n",
       "      <td>0.000000</td>\n",
       "      <td>0.000000</td>\n",
       "      <td>0.000000</td>\n",
       "      <td>0.000000</td>\n",
       "      <td>0.000000</td>\n",
       "      <td>0.000000</td>\n",
       "      <td>0.000000</td>\n",
       "      <td>0.000000</td>\n",
       "      <td>0.000000</td>\n",
       "      <td>0.000000</td>\n",
       "      <td>1.000000</td>\n",
       "    </tr>\n",
       "    <tr>\n",
       "      <th>25%</th>\n",
       "      <td>417.700000</td>\n",
       "      <td>434.600000</td>\n",
       "      <td>438.100000</td>\n",
       "      <td>431.900000</td>\n",
       "      <td>100.000000</td>\n",
       "      <td>120.000000</td>\n",
       "      <td>100.000000</td>\n",
       "      <td>120.000000</td>\n",
       "      <td>80.000000</td>\n",
       "      <td>520.000000</td>\n",
       "      <td>25188.500000</td>\n",
       "    </tr>\n",
       "    <tr>\n",
       "      <th>50%</th>\n",
       "      <td>468.700000</td>\n",
       "      <td>505.200000</td>\n",
       "      <td>494.000000</td>\n",
       "      <td>497.000000</td>\n",
       "      <td>120.000000</td>\n",
       "      <td>120.000000</td>\n",
       "      <td>120.000000</td>\n",
       "      <td>120.000000</td>\n",
       "      <td>120.000000</td>\n",
       "      <td>620.000000</td>\n",
       "      <td>50376.000000</td>\n",
       "    </tr>\n",
       "    <tr>\n",
       "      <th>75%</th>\n",
       "      <td>531.400000</td>\n",
       "      <td>577.400000</td>\n",
       "      <td>547.900000</td>\n",
       "      <td>595.400000</td>\n",
       "      <td>140.000000</td>\n",
       "      <td>180.000000</td>\n",
       "      <td>140.000000</td>\n",
       "      <td>160.000000</td>\n",
       "      <td>160.000000</td>\n",
       "      <td>760.000000</td>\n",
       "      <td>75563.500000</td>\n",
       "    </tr>\n",
       "    <tr>\n",
       "      <th>max</th>\n",
       "      <td>816.400000</td>\n",
       "      <td>832.500000</td>\n",
       "      <td>794.200000</td>\n",
       "      <td>953.100000</td>\n",
       "      <td>200.000000</td>\n",
       "      <td>200.000000</td>\n",
       "      <td>200.000000</td>\n",
       "      <td>200.000000</td>\n",
       "      <td>200.000000</td>\n",
       "      <td>1000.000000</td>\n",
       "      <td>100751.000000</td>\n",
       "    </tr>\n",
       "  </tbody>\n",
       "</table>\n",
       "</div>"
      ],
      "text/plain": [
       "             NOTA_CN        NOTA_CH        NOTA_LC        NOTA_MT  \\\n",
       "count  100751.000000  100751.000000  100751.000000  100751.000000   \n",
       "mean      463.146548     507.994400     492.316817     504.037548   \n",
       "std       125.219801      97.749328      81.328320     150.789256   \n",
       "min         0.000000       0.000000       0.000000       0.000000   \n",
       "25%       417.700000     434.600000     438.100000     431.900000   \n",
       "50%       468.700000     505.200000     494.000000     497.000000   \n",
       "75%       531.400000     577.400000     547.900000     595.400000   \n",
       "max       816.400000     832.500000     794.200000     953.100000   \n",
       "\n",
       "          NOTA_COMP1     NOTA_COMP2     NOTA_COMP3     NOTA_COMP4  \\\n",
       "count  100751.000000  100751.000000  100751.000000  100751.000000   \n",
       "mean      117.546029     140.196127     116.161428     128.624828   \n",
       "std        35.157452      47.044599      37.825336      40.632978   \n",
       "min         0.000000       0.000000       0.000000       0.000000   \n",
       "25%       100.000000     120.000000     100.000000     120.000000   \n",
       "50%       120.000000     120.000000     120.000000     120.000000   \n",
       "75%       140.000000     180.000000     140.000000     160.000000   \n",
       "max       200.000000     200.000000     200.000000     200.000000   \n",
       "\n",
       "          NOTA_COMP5   NOTA_REDACAO             ID  \n",
       "count  100751.000000  100751.000000  100751.000000  \n",
       "mean      115.934333     618.462745   50376.000000  \n",
       "std        59.840037     197.572049   29084.452823  \n",
       "min         0.000000       0.000000       1.000000  \n",
       "25%        80.000000     520.000000   25188.500000  \n",
       "50%       120.000000     620.000000   50376.000000  \n",
       "75%       160.000000     760.000000   75563.500000  \n",
       "max       200.000000    1000.000000  100751.000000  "
      ]
     },
     "execution_count": 10,
     "metadata": {},
     "output_type": "execute_result"
    }
   ],
   "source": [
    "df.describe()"
   ]
  },
  {
   "cell_type": "code",
   "execution_count": 11,
   "metadata": {
    "colab": {
     "base_uri": "https://localhost:8080/"
    },
    "id": "F50VDSEe8qE1",
    "outputId": "fbd51093-ef22-44fd-8a18-a2f8bab96470",
    "scrolled": true
   },
   "outputs": [
    {
     "data": {
      "text/plain": [
       "FAIXA ETÁRIA             0\n",
       "SEXO                     0\n",
       "COR/RAÇA                 0\n",
       "SITUAÇÃO DE CONCLUSÃO    0\n",
       "TIPO DE ESCOLA           0\n",
       "LOCALIZAÇÃO DA ESCOLA    0\n",
       "NO_MUNICIPIO_PROVA       0\n",
       "NOTA_CN                  0\n",
       "NOTA_CH                  0\n",
       "NOTA_LC                  0\n",
       "NOTA_MT                  0\n",
       "NOTA_COMP1               0\n",
       "NOTA_COMP2               0\n",
       "NOTA_COMP3               0\n",
       "NOTA_COMP4               0\n",
       "NOTA_COMP5               0\n",
       "NOTA_REDACAO             0\n",
       "STATUS DA REDAÇÃO        0\n",
       "IDIOMA                   0\n",
       "RENDA                    0\n",
       "INTERNET                 0\n",
       "ID                       0\n",
       "dtype: int64"
      ]
     },
     "execution_count": 11,
     "metadata": {},
     "output_type": "execute_result"
    }
   ],
   "source": [
    "df.isnull().sum()"
   ]
  },
  {
   "cell_type": "markdown",
   "metadata": {},
   "source": [
    "## Perguntas - Enem 2021"
   ]
  },
  {
   "cell_type": "markdown",
   "metadata": {
    "id": "Bd9U2gKd86Cu"
   },
   "source": [
    "### 1. Qual a faixa etária que mais participou do Enem 2021?"
   ]
  },
  {
   "cell_type": "code",
   "execution_count": 41,
   "metadata": {
    "colab": {
     "base_uri": "https://localhost:8080/"
    },
    "id": "EVGjQlC68rBb",
    "outputId": "5987d550-88dd-422b-a010-e2b0c0aa669e"
   },
   "outputs": [
    {
     "name": "stdout",
     "output_type": "stream",
     "text": [
      "18 anos    27769\n",
      "17 anos    21115\n",
      "19 anos    14206\n",
      "20 anos     8352\n",
      "21 anos     5256\n",
      "Name: FAIXA ETÁRIA, dtype: int64\n",
      "18 anos    27.562009\n",
      "17 anos    20.957608\n",
      "19 anos    14.100108\n",
      "20 anos     8.289744\n",
      "21 anos     5.216822\n",
      "Name: FAIXA ETÁRIA, dtype: float64\n"
     ]
    }
   ],
   "source": [
    "print(df['FAIXA ETÁRIA'].value_counts().head())\n",
    "print(df['FAIXA ETÁRIA'].value_counts(normalize=True).head()*100)"
   ]
  },
  {
   "cell_type": "code",
   "execution_count": 36,
   "metadata": {},
   "outputs": [
    {
     "data": {
      "image/png": "[encoded data removed]",
      "text/plain": [
       "<Figure size 432x288 with 1 Axes>"
      ]
     },
     "metadata": {},
     "output_type": "display_data"
    }
   ],
   "source": [
    "df['FAIXA ETÁRIA'].value_counts().sort_index().head().plot(kind='barh')\n",
    "plt.show()"
   ]
  },
  {
   "cell_type": "markdown",
   "metadata": {},
   "source": [
    "> A faixa etária que mais participou do Enem 2021 foi a de 17-19 anos, representando cerca de 62,61% da base de dados dos vestibulandos."
   ]
  },
  {
   "cell_type": "markdown",
   "metadata": {},
   "source": [
    "### 2. De quais cidades esses vestibulandos com idades 17 e 19 anos são provenientes?"
   ]
  },
  {
   "cell_type": "code",
   "execution_count": 49,
   "metadata": {},
   "outputs": [
    {
     "data": {
      "text/plain": [
       "NO_MUNICIPIO_PROVA       FAIXA ETÁRIA\n",
       "Recife                   18 anos         6077\n",
       "                         17 anos         4828\n",
       "                         19 anos         3064\n",
       "Petrolina                18 anos         1449\n",
       "Jaboatão dos Guararapes  18 anos         1444\n",
       "Name: FAIXA ETÁRIA, dtype: int64"
      ]
     },
     "execution_count": 49,
     "metadata": {},
     "output_type": "execute_result"
    }
   ],
   "source": [
    "df[df['FAIXA ETÁRIA'] < '20 anos'].groupby('NO_MUNICIPIO_PROVA')['FAIXA ETÁRIA'].value_counts().sort_values(ascending=False).head()"
   ]
  },
  {
   "cell_type": "code",
   "execution_count": 15,
   "metadata": {},
   "outputs": [
    {
     "data": {
      "image/png": "[encoded data removed]",
      "text/plain": [
       "<Figure size 432x288 with 1 Axes>"
      ]
     },
     "metadata": {},
     "output_type": "display_data"
    }
   ],
   "source": [
    "df[df['FAIXA ETÁRIA'] < '20 anos'].groupby('NO_MUNICIPIO_PROVA')['FAIXA ETÁRIA'].value_counts().sort_values(ascending=False).head(10).plot(kind='barh')\n",
    "plt.show()"
   ]
  },
  {
   "cell_type": "markdown",
   "metadata": {},
   "source": [
    "> A grande parte dos jovens vestibulandos são da cidade do Recife."
   ]
  },
  {
   "cell_type": "markdown",
   "metadata": {},
   "source": [
    "### 3. Qual o tipo de escola que esses vestibulandos estudam?"
   ]
  },
  {
   "cell_type": "code",
   "execution_count": 48,
   "metadata": {},
   "outputs": [
    {
     "data": {
      "text/plain": [
       "TIPO DE ESCOLA\n",
       "Privada           7584\n",
       "Não respondeu    20867\n",
       "Público          34639\n",
       "Name: ID, dtype: int64"
      ]
     },
     "execution_count": 48,
     "metadata": {},
     "output_type": "execute_result"
    }
   ],
   "source": [
    "df[df['FAIXA ETÁRIA'] < '20 anos'].groupby('TIPO DE ESCOLA')['ID'].count().sort_values()"
   ]
  },
  {
   "cell_type": "code",
   "execution_count": 25,
   "metadata": {},
   "outputs": [
    {
     "data": {
      "image/png": "[encoded data removed]",
      "text/plain": [
       "<Figure size 432x288 with 1 Axes>"
      ]
     },
     "metadata": {},
     "output_type": "display_data"
    }
   ],
   "source": [
    "df[df['FAIXA ETÁRIA'] < '20 anos'].groupby('TIPO DE ESCOLA')['ID'].count().sort_values().plot(kind='bar')\n",
    "plt.xticks(rotation=0)\n",
    "plt.show()"
   ]
  },
  {
   "cell_type": "markdown",
   "metadata": {},
   "source": [
    "> A maioria dos estudantes que possuem idade menor do que 20 anos e que participaram do Enem 2021, são da escola pública. Uma quantidade considerável de estudantes não responderam ao formulário acerca do tipo de escola."
   ]
  },
  {
   "cell_type": "markdown",
   "metadata": {},
   "source": [
    "### 4. Qual a média das notas de matemática de acordo com a cor/raça?"
   ]
  },
  {
   "cell_type": "code",
   "execution_count": 71,
   "metadata": {},
   "outputs": [
    {
     "data": {
      "text/plain": [
       "COR/RAÇA\n",
       "Amarela          488.681626\n",
       "Branca           533.938053\n",
       "Indígena         453.260101\n",
       "Não declarado    493.840000\n",
       "Parda            492.792197\n",
       "Preta            477.357239\n",
       "Name: NOTA_MT, dtype: float64"
      ]
     },
     "execution_count": 71,
     "metadata": {},
     "output_type": "execute_result"
    }
   ],
   "source": [
    "df.groupby('COR/RAÇA')['NOTA_MT'].mean()"
   ]
  },
  {
   "cell_type": "code",
   "execution_count": 78,
   "metadata": {},
   "outputs": [
    {
     "data": {
      "text/plain": [
       "count      6.000000\n",
       "mean     489.978203\n",
       "std       26.322953\n",
       "min      453.260101\n",
       "25%      480.188336\n",
       "50%      490.736912\n",
       "75%      493.578049\n",
       "max      533.938053\n",
       "Name: NOTA_MT, dtype: float64"
      ]
     },
     "execution_count": 78,
     "metadata": {},
     "output_type": "execute_result"
    }
   ],
   "source": [
    "df.groupby('COR/RAÇA')['NOTA_MT'].mean().describe()"
   ]
  },
  {
   "cell_type": "code",
   "execution_count": 80,
   "metadata": {},
   "outputs": [
    {
     "data": {
      "image/png": "[encoded data removed]",
      "text/plain": [
       "<Figure size 432x288 with 1 Axes>"
      ]
     },
     "metadata": {},
     "output_type": "display_data"
    }
   ],
   "source": [
    "df.groupby('COR/RAÇA')['NOTA_MT'].mean().plot.density()\n",
    "plt.show()"
   ]
  },
  {
   "cell_type": "code",
   "execution_count": 81,
   "metadata": {},
   "outputs": [
    {
     "data": {
      "text/plain": [
       "ShapiroResult(statistic=0.933307409286499, pvalue=0.6058745980262756)"
      ]
     },
     "execution_count": 81,
     "metadata": {},
     "output_type": "execute_result"
    }
   ],
   "source": [
    "# Teste de normalidade da distribuicao das notas de matematicas por cor/raca\n",
    "stats.shapiro(df.groupby('COR/RAÇA')['NOTA_MT'].mean())"
   ]
  },
  {
   "cell_type": "markdown",
   "metadata": {},
   "source": [
    "> Através da análise gráfica e a confirmação pelo teste de normalidade de Shapiro-Wilk, pode-se dizer que as notas de matemática dos vestibulandos do Enem 2021 tem uma tendência a seguir uma distribuição normal."
   ]
  },
  {
   "cell_type": "markdown",
   "metadata": {},
   "source": [
    "### 5. Qual a média das notas de redação de acordo com a situação de conclusão do Ensino Médio?"
   ]
  },
  {
   "cell_type": "code",
   "execution_count": 84,
   "metadata": {},
   "outputs": [
    {
     "data": {
      "text/plain": [
       "SITUAÇÃO DE CONCLUSÃO\n",
       "Estou cursando e concluirei o EM em 2021    600.604517\n",
       "Já concluí o EM                             633.139069\n",
       "Não concluí e não estou cursando o EM       564.492308\n",
       "Name: NOTA_REDACAO, dtype: float64"
      ]
     },
     "execution_count": 84,
     "metadata": {},
     "output_type": "execute_result"
    }
   ],
   "source": [
    "df.groupby('SITUAÇÃO DE CONCLUSÃO')['NOTA_REDACAO'].mean()"
   ]
  },
  {
   "cell_type": "code",
   "execution_count": 85,
   "metadata": {},
   "outputs": [
    {
     "data": {
      "image/png": "[encoded data removed]",
      "text/plain": [
       "<Figure size 432x288 with 1 Axes>"
      ]
     },
     "metadata": {},
     "output_type": "display_data"
    }
   ],
   "source": [
    "df.groupby('SITUAÇÃO DE CONCLUSÃO')['NOTA_REDACAO'].mean().plot(kind='barh')\n",
    "plt.show()"
   ]
  },
  {
   "cell_type": "markdown",
   "metadata": {},
   "source": [
    "> Pode-se observar que os vestibulandos que concluíram o ensino médio teve uma média maior do que os vestibulandos que ainda estavam cursando o ensino médio ou que terminariam no ano de 2021."
   ]
  },
  {
   "cell_type": "markdown",
   "metadata": {},
   "source": [
    "### 6. Qual a faixa etária mais comum nos vestibulandos que ja concluíram o Ensino Médio?"
   ]
  },
  {
   "cell_type": "code",
   "execution_count": 93,
   "metadata": {},
   "outputs": [
    {
     "data": {
      "text/plain": [
       "SITUAÇÃO DE CONCLUSÃO  FAIXA ETÁRIA      \n",
       "Já concluí o EM        19 anos               10967\n",
       "                       18 anos                8943\n",
       "                       20 anos                7609\n",
       "                       21 anos                5064\n",
       "                       Entre 26 e 30 anos     4934\n",
       "                       22 anos                3674\n",
       "                       Entre 31 e 35 anos     2568\n",
       "                       23 anos                2564\n",
       "                       24 anos                2023\n",
       "                       Entre 36 e 40 anos     1853\n",
       "                       25 anos                1685\n",
       "                       Entre 41 e 45 anos     1225\n",
       "                       17 anos                 926\n",
       "                       Entre 46 e 50 anos      778\n",
       "                       Entre 51 e 55 anos      481\n",
       "                       Entre 56 e 60 anos      232\n",
       "                       Entre 61 e 65 anos       82\n",
       "                       Entre 66 e 70 anos       25\n",
       "                       Menor de 17 anos         21\n",
       "                       Maior que 70 anos         9\n",
       "Name: FAIXA ETÁRIA, dtype: int64"
      ]
     },
     "execution_count": 93,
     "metadata": {},
     "output_type": "execute_result"
    }
   ],
   "source": [
    "df[df['SITUAÇÃO DE CONCLUSÃO'] == 'Já concluí o EM'].groupby('SITUAÇÃO DE CONCLUSÃO')['FAIXA ETÁRIA'].value_counts()"
   ]
  },
  {
   "cell_type": "code",
   "execution_count": 94,
   "metadata": {},
   "outputs": [
    {
     "data": {
      "image/png": "[encoded data removed]",
      "text/plain": [
       "<Figure size 432x288 with 1 Axes>"
      ]
     },
     "metadata": {},
     "output_type": "display_data"
    }
   ],
   "source": [
    "df[df['SITUAÇÃO DE CONCLUSÃO'] == 'Já concluí o EM'].groupby('SITUAÇÃO DE CONCLUSÃO')['FAIXA ETÁRIA'].value_counts().plot(kind='bar')\n",
    "plt.show()"
   ]
  }
 ],
 "metadata": {
  "colab": {
   "name": "Enem2021_Analysis.ipynb",
   "provenance": [],
   "toc_visible": true
  },
  "kernelspec": {
   "display_name": "Python 3 (ipykernel)",
   "language": "python",
   "name": "python3"
  },
  "language_info": {
   "codemirror_mode": {
    "name": "ipython",
    "version": 3
   },
   "file_extension": ".py",
   "mimetype": "text/x-python",
   "name": "python",
   "nbconvert_exporter": "python",
   "pygments_lexer": "ipython3",
   "version": "3.9.7"
  },
  "vscode": {
   "interpreter": {
    "hash": "253cd15c32ffb283b0558be93b097dc27093fe6b891853f454fa08d2f15e4a97"
   }
  }
 },
 "nbformat": 4,
 "nbformat_minor": 1
}
